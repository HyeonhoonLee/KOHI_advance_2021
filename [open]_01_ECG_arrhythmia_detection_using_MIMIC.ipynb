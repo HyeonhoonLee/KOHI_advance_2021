{
  "nbformat": 4,
  "nbformat_minor": 5,
  "metadata": {
    "kernelspec": {
      "display_name": "keras",
      "language": "python",
      "name": "lims1_keras"
    },
    "language_info": {
      "codemirror_mode": {
        "name": "ipython",
        "version": 3
      },
      "file_extension": ".py",
      "mimetype": "text/x-python",
      "name": "python",
      "nbconvert_exporter": "python",
      "pygments_lexer": "ipython3",
      "version": "3.8.10"
    },
    "colab": {
      "name": "[open] 01_ECG arrhythmia detection using MIMIC.ipynb",
      "provenance": [],
      "collapsed_sections": [],
      "include_colab_link": true
    },
    "accelerator": "GPU"
  },
  "cells": [
    {
      "cell_type": "markdown",
      "metadata": {
        "id": "view-in-github",
        "colab_type": "text"
      },
      "source": [
        "<a href=\"https://colab.research.google.com/github/HyeonhoonLee/KOHI_advance_2021/blob/main/%5Bopen%5D_01_ECG_arrhythmia_detection_using_MIMIC.ipynb\" target=\"_parent\"><img src=\"https://colab.research.google.com/assets/colab-badge.svg\" alt=\"Open In Colab\"/></a>"
      ]
    },
    {
      "cell_type": "markdown",
      "metadata": {
        "id": "impossible-sacramento"
      },
      "source": [
        "\n",
        "# 의료인공지능 전문가 양성과정 2021\n",
        "## MIMIC waveform Tutorial : ECG arrhythmia detection\n",
        "- Date : Sep. 04, 2021\n",
        "- Author : **Hyun-Lim Yang, Ph.D.**<br>\n",
        "Research Assistant Professor @\n",
        "Seoul National University Hospital <br>\n",
        "Department of Anesthesiology and Pain Medicine\n",
        "- E-mail : hly{_at_}snuh{_dot_}org\n",
        "***"
      ],
      "id": "impossible-sacramento"
    },
    {
      "cell_type": "markdown",
      "metadata": {
        "id": "downtown-bangkok"
      },
      "source": [
        "\n",
        "## 0. Goal\n",
        "#### Heart Arrhythmia Detection from ECG waveform with Deep  Learning model\n",
        "본 강의에서는 **딥러닝을 이용해서 ECG waveform을 분석하고 arrhythmia를 예측하는 방법**을 알아봅니다.<br>\n",
        "아래의 온라인 자료들을 활용하여 더 많은 정보를 확인할 수 있습니다.<br>\n",
        "(본 강의도 아래 자료의 내용을 참고하였습니다.)<br>\n",
        ">Reference source: <br>\n",
        "> https://github.com/andrewwlong/deep_arrhythmias <br>\n",
        "> https://towardsdatascience.com/detecting-heart-arrhythmias-with-deep-learning-in-keras-with-dense-cnn-and-lstm-add337d9e41f <br>\n",
        "> https://github.com/eddymina/ECG_Classification_Pytorch/blob/master/ECG_notebook.ipynb <br>\n",
        "***"
      ],
      "id": "downtown-bangkok"
    },
    {
      "cell_type": "markdown",
      "metadata": {
        "id": "quarterly-draft"
      },
      "source": [
        "## 1. Backgrounds\n",
        "### 1-1. Dataset\n",
        "**MIT-BIH Arrhythmia dataset**을 활용하여 실습을 진행합니다. <br>\n",
        "(source: https://physionet.org/content/mitdb/1.0.0/) <br>\n",
        "이 데이터셋은 Boston's Beth Israel Hospital 에서 1975년 ~ 1979년 사이 in-patient & out-patient를 모두 포함하는 4000명 환자의 case에서, **23개 case를 랜덤 샘플**하고 **중요한 arrhythmia를 포함하는 25개 case를 임의로 선택**하여 구축하였습니다.<br>\n",
        "360Hz를 가지는 2-channel ECG waveform과 annotation을 포함합니다."
      ],
      "id": "quarterly-draft"
    },
    {
      "cell_type": "markdown",
      "metadata": {
        "id": "pressed-oxford"
      },
      "source": [
        "### 1-2. Deep Learning Framework \n",
        "본 실습에서는 **`Keras`**를 활용합니다. (official site: https://keras.io/ko/)<br>\n",
        "`Keras`는 **high-level open source deep learning framework**로 Tensorflow, PyTorch, Caffe, MXNet 등과 함께 많이 쓰이는 프레임워크 입니다.<br>\n",
        "특히 `Keras`는 개발 초기에는 독립된 high-level API 로써 `Tensorflow` 혹은 `Theano`를 backend로 하여 서비스를 제공하였으나, **최근 `Tensorflow 2.0`에 완전 통합**되어 `Tensorflow 2.0`을 통해 제공됩니다. High-level API의 특성상 개발의 자유도는 다소 떨어지나, 사용편의성이 매우 높아서 빠르게 결과물을 확인하고자 하는 인공지능 연구자들이나 산업계에서도 인기가 높습니다. 더욱이 초급자들이 딥러닝을 학습하기에 아주 좋은 framework 입니다.<br>\n",
        "사용자 편의를 위한 다양한 함수들을 제공하고 확장성 또한 우수한 편입니다. 파이썬과 매우 호환이 잘 되고 [pythonic](https://www.python.org/dev/peps/pep-0020/) 한 코드를 제공합니다."
      ],
      "id": "pressed-oxford"
    },
    {
      "cell_type": "markdown",
      "metadata": {
        "id": "scientific-sarah"
      },
      "source": [
        "### 1-3. Other packages\n",
        "이외에 사용되는 주요한 패키지는 다음과 같습니다:\n",
        "1. `wfdb` : MIT-BIH arrhythmia dataset을 배포하는 MIMIC 팀이 자체 데이터를 처리하기 위해 개발하고 배포하는 패키지 입니다. signal과 annotation data를 읽어오는데 사용합니다.\n",
        "2. `numpy` : 벡터, 행렬 연산에 특화된 패키지 입니다.\n",
        "3. `pandas` : 데이터 분석에 특화된 패키지 입니다. 데이터 전처리와 후처리에 활용합니다.\n",
        "4. `matplotlib` : Data visualization에 특화된 패키지 입니다. 각종 plotting에 활용합니다.\n",
        "5. `sklearn` : 기계학습에 특화된 패키지 입니다. 모델 성능 분석에 활용합니다.\n",
        "\n",
        "\n",
        "***"
      ],
      "id": "scientific-sarah"
    },
    {
      "cell_type": "markdown",
      "metadata": {
        "id": "polish-writer"
      },
      "source": [
        "## 2. Data Downloads and Basic Statistics"
      ],
      "id": "polish-writer"
    },
    {
      "cell_type": "code",
      "metadata": {
        "colab": {
          "base_uri": "https://localhost:8080/"
        },
        "id": "leading-support",
        "outputId": "655e90e2-ce2d-4047-b4ba-0e553b1e8691"
      },
      "source": [
        "!pip install wfdb"
      ],
      "id": "leading-support",
      "execution_count": 1,
      "outputs": [
        {
          "output_type": "stream",
          "name": "stdout",
          "text": [
            "Collecting wfdb\n",
            "  Downloading wfdb-3.4.0-py3-none-any.whl (137 kB)\n",
            "\u001b[?25l\r\u001b[K     |██▍                             | 10 kB 20.0 MB/s eta 0:00:01\r\u001b[K     |████▊                           | 20 kB 12.0 MB/s eta 0:00:01\r\u001b[K     |███████▏                        | 30 kB 9.1 MB/s eta 0:00:01\r\u001b[K     |█████████▌                      | 40 kB 8.2 MB/s eta 0:00:01\r\u001b[K     |████████████                    | 51 kB 6.1 MB/s eta 0:00:01\r\u001b[K     |██████████████▎                 | 61 kB 6.1 MB/s eta 0:00:01\r\u001b[K     |████████████████▊               | 71 kB 5.1 MB/s eta 0:00:01\r\u001b[K     |███████████████████             | 81 kB 5.8 MB/s eta 0:00:01\r\u001b[K     |█████████████████████▍          | 92 kB 5.7 MB/s eta 0:00:01\r\u001b[K     |███████████████████████▉        | 102 kB 5.5 MB/s eta 0:00:01\r\u001b[K     |██████████████████████████▏     | 112 kB 5.5 MB/s eta 0:00:01\r\u001b[K     |████████████████████████████▋   | 122 kB 5.5 MB/s eta 0:00:01\r\u001b[K     |███████████████████████████████ | 133 kB 5.5 MB/s eta 0:00:01\r\u001b[K     |████████████████████████████████| 137 kB 5.5 MB/s \n",
            "\u001b[?25hRequirement already satisfied: pytz>=2017.2 in /usr/local/lib/python3.7/dist-packages (from wfdb) (2018.9)\n",
            "Collecting threadpoolctl>=1.0.0\n",
            "  Downloading threadpoolctl-2.2.0-py3-none-any.whl (12 kB)\n",
            "Requirement already satisfied: urllib3>=1.22 in /usr/local/lib/python3.7/dist-packages (from wfdb) (1.24.3)\n",
            "Requirement already satisfied: scipy>=0.17.0 in /usr/local/lib/python3.7/dist-packages (from wfdb) (1.4.1)\n",
            "Requirement already satisfied: pandas>=0.17.0 in /usr/local/lib/python3.7/dist-packages (from wfdb) (1.1.5)\n",
            "Requirement already satisfied: kiwisolver>=1.1.0 in /usr/local/lib/python3.7/dist-packages (from wfdb) (1.3.1)\n",
            "Requirement already satisfied: cycler>=0.10.0 in /usr/local/lib/python3.7/dist-packages (from wfdb) (0.10.0)\n",
            "Requirement already satisfied: numpy>=1.10.1 in /usr/local/lib/python3.7/dist-packages (from wfdb) (1.19.5)\n",
            "Requirement already satisfied: matplotlib>=2.0.0 in /usr/local/lib/python3.7/dist-packages (from wfdb) (3.2.2)\n",
            "Requirement already satisfied: joblib>=0.11 in /usr/local/lib/python3.7/dist-packages (from wfdb) (1.0.1)\n",
            "Requirement already satisfied: certifi>=2016.8.2 in /usr/local/lib/python3.7/dist-packages (from wfdb) (2021.5.30)\n",
            "Requirement already satisfied: requests>=2.8.1 in /usr/local/lib/python3.7/dist-packages (from wfdb) (2.23.0)\n",
            "Requirement already satisfied: python-dateutil>=2.4.2 in /usr/local/lib/python3.7/dist-packages (from wfdb) (2.8.2)\n",
            "Requirement already satisfied: chardet>=3.0.0 in /usr/local/lib/python3.7/dist-packages (from wfdb) (3.0.4)\n",
            "Requirement already satisfied: scikit-learn>=0.18 in /usr/local/lib/python3.7/dist-packages (from wfdb) (0.22.2.post1)\n",
            "Requirement already satisfied: idna>=2.2 in /usr/local/lib/python3.7/dist-packages (from wfdb) (2.10)\n",
            "Requirement already satisfied: pyparsing>=2.0.4 in /usr/local/lib/python3.7/dist-packages (from wfdb) (2.4.7)\n",
            "Requirement already satisfied: six in /usr/local/lib/python3.7/dist-packages (from cycler>=0.10.0->wfdb) (1.15.0)\n",
            "Installing collected packages: threadpoolctl, wfdb\n",
            "Successfully installed threadpoolctl-2.2.0 wfdb-3.4.0\n"
          ]
        }
      ]
    },
    {
      "cell_type": "code",
      "metadata": {
        "id": "directed-arabic"
      },
      "source": [
        "import pandas as pd\n",
        "import numpy as np\n",
        "import matplotlib\n",
        "%matplotlib inline\n",
        "import matplotlib.pylab as plt\n",
        "import os\n",
        "import sys\n",
        "import glob\n",
        "import tqdm\n",
        "import random\n",
        "from itertools import cycle\n",
        "import warnings\n",
        "warnings.filterwarnings(action='ignore')\n",
        "\n",
        "import wfdb\n",
        "\n",
        "from sklearn.metrics import roc_auc_score, roc_curve, classification_report, auc\n",
        "from sklearn.preprocessing import label_binarize"
      ],
      "id": "directed-arabic",
      "execution_count": 2,
      "outputs": []
    },
    {
      "cell_type": "markdown",
      "metadata": {
        "id": "chief-frame"
      },
      "source": [
        "### 2.1 Data download\n",
        "실습에 사용될 데이터를 다운받습니다.<br>\n",
        "데이터 사이즈가 크지 않으므로 로컬로 mimic 홈페이지에서 바로 다운로드를 진행합니다<br>\n",
        "> **Warning!** <br>\n",
        "> 만약, 데이터 다운로드에 너무 오랜 시간이 걸리거나 오류가 있다면, 아래의 공유 링크를 클릭하여 '나의 드라이브에 바로가기 추가'를 하고, comment out한 코드를 실행시키세요. <br>\n",
        "> Link: https://drive.google.com/drive/folders/1GJJXU5VFAG1nJVeYX-Yy3a2kbaYwuDq3?usp=sharing"
      ],
      "id": "chief-frame"
    },
    {
      "cell_type": "code",
      "metadata": {
        "colab": {
          "base_uri": "https://localhost:8080/"
        },
        "id": "owned-construction",
        "outputId": "434157d9-3646-4f7a-d47d-4cf4f48f6712"
      },
      "source": [
        "if not os.path.exists(\"./mit-bih-arrhythmia-database-1.0.0\"):\n",
        "  !wget https://www.physionet.org/static/published-projects/mitdb/mit-bih-arrhythmia-database-1.0.0.zip\n",
        "  !unzip mit-bih-arrhythmia-database-1.0.0.zip\n",
        "\n",
        "download_directory = os.getcwd()\n",
        "sys.path.append(download_directory)\n",
        "os.listdir(download_directory)"
      ],
      "id": "owned-construction",
      "execution_count": 3,
      "outputs": [
        {
          "output_type": "stream",
          "name": "stdout",
          "text": [
            "--2021-09-04 06:12:32--  https://www.physionet.org/static/published-projects/mitdb/mit-bih-arrhythmia-database-1.0.0.zip\n",
            "Resolving www.physionet.org (www.physionet.org)... 18.18.42.54\n",
            "Connecting to www.physionet.org (www.physionet.org)|18.18.42.54|:443... connected.\n",
            "HTTP request sent, awaiting response... 200 OK\n",
            "Length: 77030320 (73M) [application/zip]\n",
            "Saving to: ‘mit-bih-arrhythmia-database-1.0.0.zip’\n",
            "\n",
            "mit-bih-arrhythmia- 100%[===================>]  73.46M  50.8MB/s    in 1.4s    \n",
            "\n",
            "2021-09-04 06:12:34 (50.8 MB/s) - ‘mit-bih-arrhythmia-database-1.0.0.zip’ saved [77030320/77030320]\n",
            "\n",
            "Archive:  mit-bih-arrhythmia-database-1.0.0.zip\n",
            "  inflating: mit-bih-arrhythmia-database-1.0.0/100.atr  \n",
            "  inflating: mit-bih-arrhythmia-database-1.0.0/100.dat  \n",
            "  inflating: mit-bih-arrhythmia-database-1.0.0/100.hea  \n",
            "  inflating: mit-bih-arrhythmia-database-1.0.0/100.xws  \n",
            "  inflating: mit-bih-arrhythmia-database-1.0.0/101.atr  \n",
            "  inflating: mit-bih-arrhythmia-database-1.0.0/101.dat  \n",
            "  inflating: mit-bih-arrhythmia-database-1.0.0/101.hea  \n",
            "  inflating: mit-bih-arrhythmia-database-1.0.0/101.xws  \n",
            "  inflating: mit-bih-arrhythmia-database-1.0.0/102-0.atr  \n",
            "  inflating: mit-bih-arrhythmia-database-1.0.0/102.atr  \n",
            "  inflating: mit-bih-arrhythmia-database-1.0.0/102.dat  \n",
            "  inflating: mit-bih-arrhythmia-database-1.0.0/102.hea  \n",
            "  inflating: mit-bih-arrhythmia-database-1.0.0/102.xws  \n",
            "  inflating: mit-bih-arrhythmia-database-1.0.0/103.atr  \n",
            "  inflating: mit-bih-arrhythmia-database-1.0.0/103.dat  \n",
            "  inflating: mit-bih-arrhythmia-database-1.0.0/103.hea  \n",
            "  inflating: mit-bih-arrhythmia-database-1.0.0/103.xws  \n",
            "  inflating: mit-bih-arrhythmia-database-1.0.0/104.atr  \n",
            "  inflating: mit-bih-arrhythmia-database-1.0.0/104.dat  \n",
            "  inflating: mit-bih-arrhythmia-database-1.0.0/104.hea  \n",
            "  inflating: mit-bih-arrhythmia-database-1.0.0/104.xws  \n",
            "  inflating: mit-bih-arrhythmia-database-1.0.0/105.atr  \n",
            "  inflating: mit-bih-arrhythmia-database-1.0.0/105.dat  \n",
            "  inflating: mit-bih-arrhythmia-database-1.0.0/105.hea  \n",
            "  inflating: mit-bih-arrhythmia-database-1.0.0/105.xws  \n",
            "  inflating: mit-bih-arrhythmia-database-1.0.0/106.atr  \n",
            "  inflating: mit-bih-arrhythmia-database-1.0.0/106.dat  \n",
            "  inflating: mit-bih-arrhythmia-database-1.0.0/106.hea  \n",
            "  inflating: mit-bih-arrhythmia-database-1.0.0/106.xws  \n",
            "  inflating: mit-bih-arrhythmia-database-1.0.0/107.atr  \n",
            "  inflating: mit-bih-arrhythmia-database-1.0.0/107.dat  \n",
            "  inflating: mit-bih-arrhythmia-database-1.0.0/107.hea  \n",
            "  inflating: mit-bih-arrhythmia-database-1.0.0/107.xws  \n",
            "  inflating: mit-bih-arrhythmia-database-1.0.0/108.at_  \n",
            "  inflating: mit-bih-arrhythmia-database-1.0.0/108.atr  \n",
            "  inflating: mit-bih-arrhythmia-database-1.0.0/108.dat  \n",
            "  inflating: mit-bih-arrhythmia-database-1.0.0/108.hea  \n",
            "  inflating: mit-bih-arrhythmia-database-1.0.0/108.xws  \n",
            "  inflating: mit-bih-arrhythmia-database-1.0.0/109.atr  \n",
            "  inflating: mit-bih-arrhythmia-database-1.0.0/109.dat  \n",
            "  inflating: mit-bih-arrhythmia-database-1.0.0/109.hea  \n",
            "  inflating: mit-bih-arrhythmia-database-1.0.0/109.xws  \n",
            "  inflating: mit-bih-arrhythmia-database-1.0.0/111.atr  \n",
            "  inflating: mit-bih-arrhythmia-database-1.0.0/111.dat  \n",
            "  inflating: mit-bih-arrhythmia-database-1.0.0/111.hea  \n",
            "  inflating: mit-bih-arrhythmia-database-1.0.0/111.xws  \n",
            "  inflating: mit-bih-arrhythmia-database-1.0.0/112.atr  \n",
            "  inflating: mit-bih-arrhythmia-database-1.0.0/112.dat  \n",
            "  inflating: mit-bih-arrhythmia-database-1.0.0/112.hea  \n",
            "  inflating: mit-bih-arrhythmia-database-1.0.0/112.xws  \n",
            "  inflating: mit-bih-arrhythmia-database-1.0.0/113.atr  \n",
            "  inflating: mit-bih-arrhythmia-database-1.0.0/113.dat  \n",
            "  inflating: mit-bih-arrhythmia-database-1.0.0/113.hea  \n",
            "  inflating: mit-bih-arrhythmia-database-1.0.0/113.xws  \n",
            "  inflating: mit-bih-arrhythmia-database-1.0.0/114.atr  \n",
            "  inflating: mit-bih-arrhythmia-database-1.0.0/114.dat  \n",
            "  inflating: mit-bih-arrhythmia-database-1.0.0/114.hea  \n",
            "  inflating: mit-bih-arrhythmia-database-1.0.0/114.xws  \n",
            "  inflating: mit-bih-arrhythmia-database-1.0.0/115.atr  \n",
            "  inflating: mit-bih-arrhythmia-database-1.0.0/115.dat  \n",
            "  inflating: mit-bih-arrhythmia-database-1.0.0/115.hea  \n",
            "  inflating: mit-bih-arrhythmia-database-1.0.0/115.xws  \n",
            "  inflating: mit-bih-arrhythmia-database-1.0.0/116.atr  \n",
            "  inflating: mit-bih-arrhythmia-database-1.0.0/116.dat  \n",
            "  inflating: mit-bih-arrhythmia-database-1.0.0/116.hea  \n",
            "  inflating: mit-bih-arrhythmia-database-1.0.0/116.xws  \n",
            "  inflating: mit-bih-arrhythmia-database-1.0.0/117.at_  \n",
            "  inflating: mit-bih-arrhythmia-database-1.0.0/117.atr  \n",
            "  inflating: mit-bih-arrhythmia-database-1.0.0/117.dat  \n",
            "  inflating: mit-bih-arrhythmia-database-1.0.0/117.hea  \n",
            "  inflating: mit-bih-arrhythmia-database-1.0.0/117.xws  \n",
            "  inflating: mit-bih-arrhythmia-database-1.0.0/118.atr  \n",
            "  inflating: mit-bih-arrhythmia-database-1.0.0/118.dat  \n",
            "  inflating: mit-bih-arrhythmia-database-1.0.0/118.hea  \n",
            "  inflating: mit-bih-arrhythmia-database-1.0.0/118.xws  \n",
            "  inflating: mit-bih-arrhythmia-database-1.0.0/119.at_  \n",
            "  inflating: mit-bih-arrhythmia-database-1.0.0/119.atr  \n",
            "  inflating: mit-bih-arrhythmia-database-1.0.0/119.dat  \n",
            "  inflating: mit-bih-arrhythmia-database-1.0.0/119.hea  \n",
            "  inflating: mit-bih-arrhythmia-database-1.0.0/119.xws  \n",
            "  inflating: mit-bih-arrhythmia-database-1.0.0/121.atr  \n",
            "  inflating: mit-bih-arrhythmia-database-1.0.0/121.dat  \n",
            "  inflating: mit-bih-arrhythmia-database-1.0.0/121.hea  \n",
            "  inflating: mit-bih-arrhythmia-database-1.0.0/121.xws  \n",
            "  inflating: mit-bih-arrhythmia-database-1.0.0/122.atr  \n",
            "  inflating: mit-bih-arrhythmia-database-1.0.0/122.dat  \n",
            "  inflating: mit-bih-arrhythmia-database-1.0.0/122.hea  \n",
            "  inflating: mit-bih-arrhythmia-database-1.0.0/122.xws  \n",
            "  inflating: mit-bih-arrhythmia-database-1.0.0/123.atr  \n",
            "  inflating: mit-bih-arrhythmia-database-1.0.0/123.dat  \n",
            "  inflating: mit-bih-arrhythmia-database-1.0.0/123.hea  \n",
            "  inflating: mit-bih-arrhythmia-database-1.0.0/123.xws  \n",
            "  inflating: mit-bih-arrhythmia-database-1.0.0/124.atr  \n",
            "  inflating: mit-bih-arrhythmia-database-1.0.0/124.dat  \n",
            "  inflating: mit-bih-arrhythmia-database-1.0.0/124.hea  \n",
            "  inflating: mit-bih-arrhythmia-database-1.0.0/124.xws  \n",
            "  inflating: mit-bih-arrhythmia-database-1.0.0/200.atr  \n",
            "  inflating: mit-bih-arrhythmia-database-1.0.0/200.dat  \n",
            "  inflating: mit-bih-arrhythmia-database-1.0.0/200.hea  \n",
            "  inflating: mit-bih-arrhythmia-database-1.0.0/200.xws  \n",
            "  inflating: mit-bih-arrhythmia-database-1.0.0/201.atr  \n",
            "  inflating: mit-bih-arrhythmia-database-1.0.0/201.dat  \n",
            "  inflating: mit-bih-arrhythmia-database-1.0.0/201.hea  \n",
            "  inflating: mit-bih-arrhythmia-database-1.0.0/201.xws  \n",
            "  inflating: mit-bih-arrhythmia-database-1.0.0/202.atr  \n",
            "  inflating: mit-bih-arrhythmia-database-1.0.0/202.dat  \n",
            "  inflating: mit-bih-arrhythmia-database-1.0.0/202.hea  \n",
            "  inflating: mit-bih-arrhythmia-database-1.0.0/202.xws  \n",
            "  inflating: mit-bih-arrhythmia-database-1.0.0/203.at-  \n",
            "  inflating: mit-bih-arrhythmia-database-1.0.0/203.at_  \n",
            "  inflating: mit-bih-arrhythmia-database-1.0.0/203.atr  \n",
            "  inflating: mit-bih-arrhythmia-database-1.0.0/203.dat  \n",
            "  inflating: mit-bih-arrhythmia-database-1.0.0/203.hea  \n",
            "  inflating: mit-bih-arrhythmia-database-1.0.0/203.xws  \n",
            "  inflating: mit-bih-arrhythmia-database-1.0.0/205.atr  \n",
            "  inflating: mit-bih-arrhythmia-database-1.0.0/205.dat  \n",
            "  inflating: mit-bih-arrhythmia-database-1.0.0/205.hea  \n",
            "  inflating: mit-bih-arrhythmia-database-1.0.0/205.xws  \n",
            "  inflating: mit-bih-arrhythmia-database-1.0.0/207.atr  \n",
            "  inflating: mit-bih-arrhythmia-database-1.0.0/207.dat  \n",
            "  inflating: mit-bih-arrhythmia-database-1.0.0/207.hea  \n",
            "  inflating: mit-bih-arrhythmia-database-1.0.0/207.xws  \n",
            "  inflating: mit-bih-arrhythmia-database-1.0.0/208.atr  \n",
            "  inflating: mit-bih-arrhythmia-database-1.0.0/208.dat  \n",
            "  inflating: mit-bih-arrhythmia-database-1.0.0/208.hea  \n",
            "  inflating: mit-bih-arrhythmia-database-1.0.0/208.xws  \n",
            "  inflating: mit-bih-arrhythmia-database-1.0.0/209.at_  \n",
            "  inflating: mit-bih-arrhythmia-database-1.0.0/209.atr  \n",
            "  inflating: mit-bih-arrhythmia-database-1.0.0/209.dat  \n",
            "  inflating: mit-bih-arrhythmia-database-1.0.0/209.hea  \n",
            "  inflating: mit-bih-arrhythmia-database-1.0.0/209.xws  \n",
            "  inflating: mit-bih-arrhythmia-database-1.0.0/210.atr  \n",
            "  inflating: mit-bih-arrhythmia-database-1.0.0/210.dat  \n",
            "  inflating: mit-bih-arrhythmia-database-1.0.0/210.hea  \n",
            "  inflating: mit-bih-arrhythmia-database-1.0.0/210.xws  \n",
            "  inflating: mit-bih-arrhythmia-database-1.0.0/212.atr  \n",
            "  inflating: mit-bih-arrhythmia-database-1.0.0/212.dat  \n",
            "  inflating: mit-bih-arrhythmia-database-1.0.0/212.hea  \n",
            "  inflating: mit-bih-arrhythmia-database-1.0.0/212.xws  \n",
            "  inflating: mit-bih-arrhythmia-database-1.0.0/213.atr  \n",
            "  inflating: mit-bih-arrhythmia-database-1.0.0/213.dat  \n",
            "  inflating: mit-bih-arrhythmia-database-1.0.0/213.hea  \n",
            "  inflating: mit-bih-arrhythmia-database-1.0.0/213.xws  \n",
            "  inflating: mit-bih-arrhythmia-database-1.0.0/214.at_  \n",
            "  inflating: mit-bih-arrhythmia-database-1.0.0/214.atr  \n",
            "  inflating: mit-bih-arrhythmia-database-1.0.0/214.dat  \n",
            "  inflating: mit-bih-arrhythmia-database-1.0.0/214.hea  \n",
            "  inflating: mit-bih-arrhythmia-database-1.0.0/214.xws  \n",
            "  inflating: mit-bih-arrhythmia-database-1.0.0/215.at_  \n",
            "  inflating: mit-bih-arrhythmia-database-1.0.0/215.atr  \n",
            "  inflating: mit-bih-arrhythmia-database-1.0.0/215.dat  \n",
            "  inflating: mit-bih-arrhythmia-database-1.0.0/215.hea  \n",
            "  inflating: mit-bih-arrhythmia-database-1.0.0/215.xws  \n",
            "  inflating: mit-bih-arrhythmia-database-1.0.0/217.atr  \n",
            "  inflating: mit-bih-arrhythmia-database-1.0.0/217.dat  \n",
            "  inflating: mit-bih-arrhythmia-database-1.0.0/217.hea  \n",
            "  inflating: mit-bih-arrhythmia-database-1.0.0/217.xws  \n",
            "  inflating: mit-bih-arrhythmia-database-1.0.0/219.atr  \n",
            "  inflating: mit-bih-arrhythmia-database-1.0.0/219.dat  \n",
            "  inflating: mit-bih-arrhythmia-database-1.0.0/219.hea  \n",
            "  inflating: mit-bih-arrhythmia-database-1.0.0/219.xws  \n",
            "  inflating: mit-bih-arrhythmia-database-1.0.0/220.atr  \n",
            "  inflating: mit-bih-arrhythmia-database-1.0.0/220.dat  \n",
            "  inflating: mit-bih-arrhythmia-database-1.0.0/220.hea  \n",
            "  inflating: mit-bih-arrhythmia-database-1.0.0/220.xws  \n",
            "  inflating: mit-bih-arrhythmia-database-1.0.0/221.atr  \n",
            "  inflating: mit-bih-arrhythmia-database-1.0.0/221.dat  \n",
            "  inflating: mit-bih-arrhythmia-database-1.0.0/221.hea  \n",
            "  inflating: mit-bih-arrhythmia-database-1.0.0/221.xws  \n",
            "  inflating: mit-bih-arrhythmia-database-1.0.0/222.at_  \n",
            "  inflating: mit-bih-arrhythmia-database-1.0.0/222.atr  \n",
            "  inflating: mit-bih-arrhythmia-database-1.0.0/222.dat  \n",
            "  inflating: mit-bih-arrhythmia-database-1.0.0/222.hea  \n",
            "  inflating: mit-bih-arrhythmia-database-1.0.0/222.xws  \n",
            "  inflating: mit-bih-arrhythmia-database-1.0.0/223.atr  \n",
            "  inflating: mit-bih-arrhythmia-database-1.0.0/223.dat  \n",
            "  inflating: mit-bih-arrhythmia-database-1.0.0/223.hea  \n",
            "  inflating: mit-bih-arrhythmia-database-1.0.0/223.xws  \n",
            "  inflating: mit-bih-arrhythmia-database-1.0.0/228.atr  \n",
            "  inflating: mit-bih-arrhythmia-database-1.0.0/228.dat  \n",
            "  inflating: mit-bih-arrhythmia-database-1.0.0/228.hea  \n",
            "  inflating: mit-bih-arrhythmia-database-1.0.0/228.xws  \n",
            "  inflating: mit-bih-arrhythmia-database-1.0.0/230.atr  \n",
            "  inflating: mit-bih-arrhythmia-database-1.0.0/230.dat  \n",
            "  inflating: mit-bih-arrhythmia-database-1.0.0/230.hea  \n",
            "  inflating: mit-bih-arrhythmia-database-1.0.0/230.xws  \n",
            "  inflating: mit-bih-arrhythmia-database-1.0.0/231.atr  \n",
            "  inflating: mit-bih-arrhythmia-database-1.0.0/231.dat  \n",
            "  inflating: mit-bih-arrhythmia-database-1.0.0/231.hea  \n",
            "  inflating: mit-bih-arrhythmia-database-1.0.0/231.xws  \n",
            "  inflating: mit-bih-arrhythmia-database-1.0.0/232.atr  \n",
            "  inflating: mit-bih-arrhythmia-database-1.0.0/232.dat  \n",
            "  inflating: mit-bih-arrhythmia-database-1.0.0/232.hea  \n",
            "  inflating: mit-bih-arrhythmia-database-1.0.0/232.xws  \n",
            "  inflating: mit-bih-arrhythmia-database-1.0.0/233.atr  \n",
            "  inflating: mit-bih-arrhythmia-database-1.0.0/233.dat  \n",
            "  inflating: mit-bih-arrhythmia-database-1.0.0/233.hea  \n",
            "  inflating: mit-bih-arrhythmia-database-1.0.0/233.xws  \n",
            "  inflating: mit-bih-arrhythmia-database-1.0.0/234.atr  \n",
            "  inflating: mit-bih-arrhythmia-database-1.0.0/234.dat  \n",
            "  inflating: mit-bih-arrhythmia-database-1.0.0/234.hea  \n",
            "  inflating: mit-bih-arrhythmia-database-1.0.0/234.xws  \n",
            " extracting: mit-bih-arrhythmia-database-1.0.0/ANNOTATORS  \n",
            "  inflating: mit-bih-arrhythmia-database-1.0.0/RECORDS  \n",
            "  inflating: mit-bih-arrhythmia-database-1.0.0/SHA256SUMS.txt  \n",
            "  inflating: mit-bih-arrhythmia-database-1.0.0/mitdbdir/foreword.htm  \n",
            "  inflating: mit-bih-arrhythmia-database-1.0.0/mitdbdir/intro.htm  \n",
            "  inflating: mit-bih-arrhythmia-database-1.0.0/mitdbdir/mitdbdir.htm  \n",
            "  inflating: mit-bih-arrhythmia-database-1.0.0/mitdbdir/records.htm  \n",
            " extracting: mit-bih-arrhythmia-database-1.0.0/mitdbdir/samples/1001103.xws  \n",
            " extracting: mit-bih-arrhythmia-database-1.0.0/mitdbdir/samples/1002513.xws  \n",
            " extracting: mit-bih-arrhythmia-database-1.0.0/mitdbdir/samples/1002609.xws  \n",
            " extracting: mit-bih-arrhythmia-database-1.0.0/mitdbdir/samples/1002755.xws  \n",
            " extracting: mit-bih-arrhythmia-database-1.0.0/mitdbdir/samples/1010134.xws  \n",
            " extracting: mit-bih-arrhythmia-database-1.0.0/mitdbdir/samples/1010148.xws  \n",
            " extracting: mit-bih-arrhythmia-database-1.0.0/mitdbdir/samples/1010513.xws  \n",
            " extracting: mit-bih-arrhythmia-database-1.0.0/mitdbdir/samples/1010954.xws  \n",
            " extracting: mit-bih-arrhythmia-database-1.0.0/mitdbdir/samples/1012432.xws  \n",
            " extracting: mit-bih-arrhythmia-database-1.0.0/mitdbdir/samples/1020055.xws  \n",
            " extracting: mit-bih-arrhythmia-database-1.0.0/mitdbdir/samples/1020112.xws  \n",
            " extracting: mit-bih-arrhythmia-database-1.0.0/mitdbdir/samples/1020128.xws  \n",
            " extracting: mit-bih-arrhythmia-database-1.0.0/mitdbdir/samples/1020230.xws  \n",
            " extracting: mit-bih-arrhythmia-database-1.0.0/mitdbdir/samples/1020451.xws  \n",
            " extracting: mit-bih-arrhythmia-database-1.0.0/mitdbdir/samples/1020935.xws  \n",
            " extracting: mit-bih-arrhythmia-database-1.0.0/mitdbdir/samples/1021612.xws  \n",
            " extracting: mit-bih-arrhythmia-database-1.0.0/mitdbdir/samples/1030109.xws  \n",
            " extracting: mit-bih-arrhythmia-database-1.0.0/mitdbdir/samples/1031721.xws  \n",
            " extracting: mit-bih-arrhythmia-database-1.0.0/mitdbdir/samples/1031915.xws  \n",
            " extracting: mit-bih-arrhythmia-database-1.0.0/mitdbdir/samples/1032213.xws  \n",
            " extracting: mit-bih-arrhythmia-database-1.0.0/mitdbdir/samples/1032333.xws  \n",
            " extracting: mit-bih-arrhythmia-database-1.0.0/mitdbdir/samples/1032858.xws  \n",
            " extracting: mit-bih-arrhythmia-database-1.0.0/mitdbdir/samples/1040342.xws  \n",
            " extracting: mit-bih-arrhythmia-database-1.0.0/mitdbdir/samples/1040513.xws  \n",
            " extracting: mit-bih-arrhythmia-database-1.0.0/mitdbdir/samples/1040552.xws  \n",
            " extracting: mit-bih-arrhythmia-database-1.0.0/mitdbdir/samples/1040617.xws  \n",
            " extracting: mit-bih-arrhythmia-database-1.0.0/mitdbdir/samples/1040822.xws  \n",
            " extracting: mit-bih-arrhythmia-database-1.0.0/mitdbdir/samples/1042651.xws  \n",
            " extracting: mit-bih-arrhythmia-database-1.0.0/mitdbdir/samples/1042910.xws  \n",
            " extracting: mit-bih-arrhythmia-database-1.0.0/mitdbdir/samples/1050527.xws  \n",
            " extracting: mit-bih-arrhythmia-database-1.0.0/mitdbdir/samples/1050757.xws  \n",
            " extracting: mit-bih-arrhythmia-database-1.0.0/mitdbdir/samples/1051516.xws  \n",
            " extracting: mit-bih-arrhythmia-database-1.0.0/mitdbdir/samples/1051752.xws  \n",
            " extracting: mit-bih-arrhythmia-database-1.0.0/mitdbdir/samples/1052202.xws  \n",
            " extracting: mit-bih-arrhythmia-database-1.0.0/mitdbdir/samples/1052645.xws  \n",
            " extracting: mit-bih-arrhythmia-database-1.0.0/mitdbdir/samples/1052727.xws  \n",
            " extracting: mit-bih-arrhythmia-database-1.0.0/mitdbdir/samples/1052808.xws  \n",
            " extracting: mit-bih-arrhythmia-database-1.0.0/mitdbdir/samples/1052907.xws  \n",
            " extracting: mit-bih-arrhythmia-database-1.0.0/mitdbdir/samples/1060019.xws  \n",
            " extracting: mit-bih-arrhythmia-database-1.0.0/mitdbdir/samples/1060137.xws  \n",
            " extracting: mit-bih-arrhythmia-database-1.0.0/mitdbdir/samples/1060253.xws  \n",
            " extracting: mit-bih-arrhythmia-database-1.0.0/mitdbdir/samples/1060423.xws  \n",
            " extracting: mit-bih-arrhythmia-database-1.0.0/mitdbdir/samples/1060757.xws  \n",
            " extracting: mit-bih-arrhythmia-database-1.0.0/mitdbdir/samples/1061052.xws  \n",
            " extracting: mit-bih-arrhythmia-database-1.0.0/mitdbdir/samples/1061227.xws  \n",
            " extracting: mit-bih-arrhythmia-database-1.0.0/mitdbdir/samples/1061617.xws  \n",
            " extracting: mit-bih-arrhythmia-database-1.0.0/mitdbdir/samples/1062513.xws  \n",
            " extracting: mit-bih-arrhythmia-database-1.0.0/mitdbdir/samples/1062552.xws  \n",
            " extracting: mit-bih-arrhythmia-database-1.0.0/mitdbdir/samples/1070044.xws  \n",
            " extracting: mit-bih-arrhythmia-database-1.0.0/mitdbdir/samples/1071230.xws  \n",
            " extracting: mit-bih-arrhythmia-database-1.0.0/mitdbdir/samples/1071954.xws  \n",
            " extracting: mit-bih-arrhythmia-database-1.0.0/mitdbdir/samples/1072038.xws  \n",
            " extracting: mit-bih-arrhythmia-database-1.0.0/mitdbdir/samples/1072552.xws  \n",
            " extracting: mit-bih-arrhythmia-database-1.0.0/mitdbdir/samples/1080022.xws  \n",
            " extracting: mit-bih-arrhythmia-database-1.0.0/mitdbdir/samples/1080451.xws  \n",
            " extracting: mit-bih-arrhythmia-database-1.0.0/mitdbdir/samples/1080741.xws  \n",
            " extracting: mit-bih-arrhythmia-database-1.0.0/mitdbdir/samples/1080813.xws  \n",
            " extracting: mit-bih-arrhythmia-database-1.0.0/mitdbdir/samples/1081055.xws  \n",
            "  inflating: mit-bih-arrhythmia-database-1.0.0/mitdbdir/samples/1081808.xws  \n",
            " extracting: mit-bih-arrhythmia-database-1.0.0/mitdbdir/samples/1082005.xws  \n",
            " extracting: mit-bih-arrhythmia-database-1.0.0/mitdbdir/samples/1082420.xws  \n",
            " extracting: mit-bih-arrhythmia-database-1.0.0/mitdbdir/samples/1082810.xws  \n",
            " extracting: mit-bih-arrhythmia-database-1.0.0/mitdbdir/samples/1082900.xws  \n",
            " extracting: mit-bih-arrhythmia-database-1.0.0/mitdbdir/samples/1090013.xws  \n",
            " extracting: mit-bih-arrhythmia-database-1.0.0/mitdbdir/samples/1090128.xws  \n",
            " extracting: mit-bih-arrhythmia-database-1.0.0/mitdbdir/samples/1090336.xws  \n",
            " extracting: mit-bih-arrhythmia-database-1.0.0/mitdbdir/samples/1090446.xws  \n",
            " extracting: mit-bih-arrhythmia-database-1.0.0/mitdbdir/samples/1090527.xws  \n",
            " extracting: mit-bih-arrhythmia-database-1.0.0/mitdbdir/samples/1091401.xws  \n",
            " extracting: mit-bih-arrhythmia-database-1.0.0/mitdbdir/samples/1091713.xws  \n",
            " extracting: mit-bih-arrhythmia-database-1.0.0/mitdbdir/samples/1091921.xws  \n",
            "  inflating: mit-bih-arrhythmia-database-1.0.0/mitdbdir/samples/1092609.xws  \n",
            " extracting: mit-bih-arrhythmia-database-1.0.0/mitdbdir/samples/1092803.xws  \n",
            " extracting: mit-bih-arrhythmia-database-1.0.0/mitdbdir/samples/1092828.xws  \n",
            " extracting: mit-bih-arrhythmia-database-1.0.0/mitdbdir/samples/1092910.xws  \n",
            " extracting: mit-bih-arrhythmia-database-1.0.0/mitdbdir/samples/1110025.xws  \n",
            " extracting: mit-bih-arrhythmia-database-1.0.0/mitdbdir/samples/1110241.xws  \n",
            " extracting: mit-bih-arrhythmia-database-1.0.0/mitdbdir/samples/1110352.xws  \n",
            " extracting: mit-bih-arrhythmia-database-1.0.0/mitdbdir/samples/1110404.xws  \n",
            " extracting: mit-bih-arrhythmia-database-1.0.0/mitdbdir/samples/1110831.xws  \n",
            " extracting: mit-bih-arrhythmia-database-1.0.0/mitdbdir/samples/1111153.xws  \n",
            " extracting: mit-bih-arrhythmia-database-1.0.0/mitdbdir/samples/1111541.xws  \n",
            " extracting: mit-bih-arrhythmia-database-1.0.0/mitdbdir/samples/1111954.xws  \n",
            " extracting: mit-bih-arrhythmia-database-1.0.0/mitdbdir/samples/1112702.xws  \n",
            " extracting: mit-bih-arrhythmia-database-1.0.0/mitdbdir/samples/1121140.xws  \n",
            " extracting: mit-bih-arrhythmia-database-1.0.0/mitdbdir/samples/1121230.xws  \n",
            " extracting: mit-bih-arrhythmia-database-1.0.0/mitdbdir/samples/1121249.xws  \n",
            " extracting: mit-bih-arrhythmia-database-1.0.0/mitdbdir/samples/1130420.xws  \n",
            " extracting: mit-bih-arrhythmia-database-1.0.0/mitdbdir/samples/1130822.xws  \n",
            " extracting: mit-bih-arrhythmia-database-1.0.0/mitdbdir/samples/1131148.xws  \n",
            " extracting: mit-bih-arrhythmia-database-1.0.0/mitdbdir/samples/1131227.xws  \n",
            " extracting: mit-bih-arrhythmia-database-1.0.0/mitdbdir/samples/1132210.xws  \n",
            " extracting: mit-bih-arrhythmia-database-1.0.0/mitdbdir/samples/1132901.xws  \n",
            " extracting: mit-bih-arrhythmia-database-1.0.0/mitdbdir/samples/1140000.xws  \n",
            " extracting: mit-bih-arrhythmia-database-1.0.0/mitdbdir/samples/1140120.xws  \n",
            " extracting: mit-bih-arrhythmia-database-1.0.0/mitdbdir/samples/1140339.xws  \n",
            " extracting: mit-bih-arrhythmia-database-1.0.0/mitdbdir/samples/1140356.xws  \n",
            " extracting: mit-bih-arrhythmia-database-1.0.0/mitdbdir/samples/1140435.xws  \n",
            " extracting: mit-bih-arrhythmia-database-1.0.0/mitdbdir/samples/1140536.xws  \n",
            " extracting: mit-bih-arrhythmia-database-1.0.0/mitdbdir/samples/1140831.xws  \n",
            " extracting: mit-bih-arrhythmia-database-1.0.0/mitdbdir/samples/1140926.xws  \n",
            " extracting: mit-bih-arrhythmia-database-1.0.0/mitdbdir/samples/1141137.xws  \n",
            " extracting: mit-bih-arrhythmia-database-1.0.0/mitdbdir/samples/1142002.xws  \n",
            " extracting: mit-bih-arrhythmia-database-1.0.0/mitdbdir/samples/1142929.xws  \n",
            " extracting: mit-bih-arrhythmia-database-1.0.0/mitdbdir/samples/1150055.xws  \n",
            " extracting: mit-bih-arrhythmia-database-1.0.0/mitdbdir/samples/1150322.xws  \n",
            " extracting: mit-bih-arrhythmia-database-1.0.0/mitdbdir/samples/1151552.xws  \n",
            " extracting: mit-bih-arrhythmia-database-1.0.0/mitdbdir/samples/1152128.xws  \n",
            " extracting: mit-bih-arrhythmia-database-1.0.0/mitdbdir/samples/1152705.xws  \n",
            " extracting: mit-bih-arrhythmia-database-1.0.0/mitdbdir/samples/1152842.xws  \n",
            " extracting: mit-bih-arrhythmia-database-1.0.0/mitdbdir/samples/1160044.xws  \n",
            " extracting: mit-bih-arrhythmia-database-1.0.0/mitdbdir/samples/1160131.xws  \n",
            " extracting: mit-bih-arrhythmia-database-1.0.0/mitdbdir/samples/1161000.xws  \n",
            " extracting: mit-bih-arrhythmia-database-1.0.0/mitdbdir/samples/1161232.xws  \n",
            " extracting: mit-bih-arrhythmia-database-1.0.0/mitdbdir/samples/1161637.xws  \n",
            " extracting: mit-bih-arrhythmia-database-1.0.0/mitdbdir/samples/1162308.xws  \n",
            " extracting: mit-bih-arrhythmia-database-1.0.0/mitdbdir/samples/1162547.xws  \n",
            " extracting: mit-bih-arrhythmia-database-1.0.0/mitdbdir/samples/1170356.xws  \n",
            " extracting: mit-bih-arrhythmia-database-1.0.0/mitdbdir/samples/1171158.xws  \n",
            " extracting: mit-bih-arrhythmia-database-1.0.0/mitdbdir/samples/1172227.xws  \n",
            " extracting: mit-bih-arrhythmia-database-1.0.0/mitdbdir/samples/1180339.xws  \n",
            " extracting: mit-bih-arrhythmia-database-1.0.0/mitdbdir/samples/1180831.xws  \n",
            " extracting: mit-bih-arrhythmia-database-1.0.0/mitdbdir/samples/1180923.xws  \n",
            " extracting: mit-bih-arrhythmia-database-1.0.0/mitdbdir/samples/1181347.xws  \n",
            " extracting: mit-bih-arrhythmia-database-1.0.0/mitdbdir/samples/1182232.xws  \n",
            " extracting: mit-bih-arrhythmia-database-1.0.0/mitdbdir/samples/1182325.xws  \n",
            " extracting: mit-bih-arrhythmia-database-1.0.0/mitdbdir/samples/1182541.xws  \n",
            " extracting: mit-bih-arrhythmia-database-1.0.0/mitdbdir/samples/1182623.xws  \n",
            " extracting: mit-bih-arrhythmia-database-1.0.0/mitdbdir/samples/1182648.xws  \n",
            " extracting: mit-bih-arrhythmia-database-1.0.0/mitdbdir/samples/1182858.xws  \n",
            " extracting: mit-bih-arrhythmia-database-1.0.0/mitdbdir/samples/1182953.xws  \n",
            " extracting: mit-bih-arrhythmia-database-1.0.0/mitdbdir/samples/1190155.xws  \n",
            " extracting: mit-bih-arrhythmia-database-1.0.0/mitdbdir/samples/1190238.xws  \n",
            " extracting: mit-bih-arrhythmia-database-1.0.0/mitdbdir/samples/1190451.xws  \n",
            " extracting: mit-bih-arrhythmia-database-1.0.0/mitdbdir/samples/1190842.xws  \n",
            " extracting: mit-bih-arrhythmia-database-1.0.0/mitdbdir/samples/1192005.xws  \n",
            " extracting: mit-bih-arrhythmia-database-1.0.0/mitdbdir/samples/1192533.xws  \n",
            " extracting: mit-bih-arrhythmia-database-1.0.0/mitdbdir/samples/1210106.xws  \n",
            " extracting: mit-bih-arrhythmia-database-1.0.0/mitdbdir/samples/1210333.xws  \n",
            " extracting: mit-bih-arrhythmia-database-1.0.0/mitdbdir/samples/1211648.xws  \n",
            " extracting: mit-bih-arrhythmia-database-1.0.0/mitdbdir/samples/1212432.xws  \n",
            " extracting: mit-bih-arrhythmia-database-1.0.0/mitdbdir/samples/1212601.xws  \n",
            " extracting: mit-bih-arrhythmia-database-1.0.0/mitdbdir/samples/1220109.xws  \n",
            " extracting: mit-bih-arrhythmia-database-1.0.0/mitdbdir/samples/1221347.xws  \n",
            " extracting: mit-bih-arrhythmia-database-1.0.0/mitdbdir/samples/1222825.xws  \n",
            " extracting: mit-bih-arrhythmia-database-1.0.0/mitdbdir/samples/1232210.xws  \n",
            " extracting: mit-bih-arrhythmia-database-1.0.0/mitdbdir/samples/1232511.xws  \n",
            " extracting: mit-bih-arrhythmia-database-1.0.0/mitdbdir/samples/1232741.xws  \n",
            " extracting: mit-bih-arrhythmia-database-1.0.0/mitdbdir/samples/1232836.xws  \n",
            " extracting: mit-bih-arrhythmia-database-1.0.0/mitdbdir/samples/1240443.xws  \n",
            " extracting: mit-bih-arrhythmia-database-1.0.0/mitdbdir/samples/1240509.xws  \n",
            " extracting: mit-bih-arrhythmia-database-1.0.0/mitdbdir/samples/1240521.xws  \n",
            " extracting: mit-bih-arrhythmia-database-1.0.0/mitdbdir/samples/1240905.xws  \n",
            " extracting: mit-bih-arrhythmia-database-1.0.0/mitdbdir/samples/1241027.xws  \n",
            " extracting: mit-bih-arrhythmia-database-1.0.0/mitdbdir/samples/1241738.xws  \n",
            " extracting: mit-bih-arrhythmia-database-1.0.0/mitdbdir/samples/1242013.xws  \n",
            " extracting: mit-bih-arrhythmia-database-1.0.0/mitdbdir/samples/1242322.xws  \n",
            " extracting: mit-bih-arrhythmia-database-1.0.0/mitdbdir/samples/1242603.xws  \n",
            " extracting: mit-bih-arrhythmia-database-1.0.0/mitdbdir/samples/1242741.xws  \n",
            " extracting: mit-bih-arrhythmia-database-1.0.0/mitdbdir/samples/2000142.xws  \n",
            " extracting: mit-bih-arrhythmia-database-1.0.0/mitdbdir/samples/2000538.xws  \n",
            " extracting: mit-bih-arrhythmia-database-1.0.0/mitdbdir/samples/2001814.xws  \n",
            " extracting: mit-bih-arrhythmia-database-1.0.0/mitdbdir/samples/2002052.xws  \n",
            " extracting: mit-bih-arrhythmia-database-1.0.0/mitdbdir/samples/2002449.xws  \n",
            " extracting: mit-bih-arrhythmia-database-1.0.0/mitdbdir/samples/2002612.xws  \n",
            " extracting: mit-bih-arrhythmia-database-1.0.0/mitdbdir/samples/2002831.xws  \n",
            " extracting: mit-bih-arrhythmia-database-1.0.0/mitdbdir/samples/2002901.xws  \n",
            " extracting: mit-bih-arrhythmia-database-1.0.0/mitdbdir/samples/2002918.xws  \n",
            " extracting: mit-bih-arrhythmia-database-1.0.0/mitdbdir/samples/2002951.xws  \n",
            " extracting: mit-bih-arrhythmia-database-1.0.0/mitdbdir/samples/2010000.xws  \n",
            " extracting: mit-bih-arrhythmia-database-1.0.0/mitdbdir/samples/2010615.xws  \n",
            " extracting: mit-bih-arrhythmia-database-1.0.0/mitdbdir/samples/2010752.xws  \n",
            " extracting: mit-bih-arrhythmia-database-1.0.0/mitdbdir/samples/2010853.xws  \n",
            " extracting: mit-bih-arrhythmia-database-1.0.0/mitdbdir/samples/2011814.xws  \n",
            " extracting: mit-bih-arrhythmia-database-1.0.0/mitdbdir/samples/2012016.xws  \n",
            " extracting: mit-bih-arrhythmia-database-1.0.0/mitdbdir/samples/2012233.xws  \n",
            " extracting: mit-bih-arrhythmia-database-1.0.0/mitdbdir/samples/2012350.xws  \n",
            " extracting: mit-bih-arrhythmia-database-1.0.0/mitdbdir/samples/2012415.xws  \n",
            " extracting: mit-bih-arrhythmia-database-1.0.0/mitdbdir/samples/2012519.xws  \n",
            " extracting: mit-bih-arrhythmia-database-1.0.0/mitdbdir/samples/2012620.xws  \n",
            " extracting: mit-bih-arrhythmia-database-1.0.0/mitdbdir/samples/2012803.xws  \n",
            " extracting: mit-bih-arrhythmia-database-1.0.0/mitdbdir/samples/2021016.xws  \n",
            " extracting: mit-bih-arrhythmia-database-1.0.0/mitdbdir/samples/2021224.xws  \n",
            " extracting: mit-bih-arrhythmia-database-1.0.0/mitdbdir/samples/2021241.xws  \n",
            " extracting: mit-bih-arrhythmia-database-1.0.0/mitdbdir/samples/2021822.xws  \n",
            " extracting: mit-bih-arrhythmia-database-1.0.0/mitdbdir/samples/2021845.xws  \n",
            " extracting: mit-bih-arrhythmia-database-1.0.0/mitdbdir/samples/2021859.xws  \n",
            " extracting: mit-bih-arrhythmia-database-1.0.0/mitdbdir/samples/2022110.xws  \n",
            " extracting: mit-bih-arrhythmia-database-1.0.0/mitdbdir/samples/2022126.xws  \n",
            " extracting: mit-bih-arrhythmia-database-1.0.0/mitdbdir/samples/2022213.xws  \n",
            " extracting: mit-bih-arrhythmia-database-1.0.0/mitdbdir/samples/2022558.xws  \n",
            " extracting: mit-bih-arrhythmia-database-1.0.0/mitdbdir/samples/2022755.xws  \n",
            " extracting: mit-bih-arrhythmia-database-1.0.0/mitdbdir/samples/2022935.xws  \n",
            " extracting: mit-bih-arrhythmia-database-1.0.0/mitdbdir/samples/2030500.xws  \n",
            " extracting: mit-bih-arrhythmia-database-1.0.0/mitdbdir/samples/2031314.xws  \n",
            " extracting: mit-bih-arrhythmia-database-1.0.0/mitdbdir/samples/2031502.xws  \n",
            " extracting: mit-bih-arrhythmia-database-1.0.0/mitdbdir/samples/2032202.xws  \n",
            " extracting: mit-bih-arrhythmia-database-1.0.0/mitdbdir/samples/2032325.xws  \n",
            " extracting: mit-bih-arrhythmia-database-1.0.0/mitdbdir/samples/2032404.xws  \n",
            " extracting: mit-bih-arrhythmia-database-1.0.0/mitdbdir/samples/2032446.xws  \n",
            " extracting: mit-bih-arrhythmia-database-1.0.0/mitdbdir/samples/2032639.xws  \n",
            " extracting: mit-bih-arrhythmia-database-1.0.0/mitdbdir/samples/2032651.xws  \n",
            " extracting: mit-bih-arrhythmia-database-1.0.0/mitdbdir/samples/2032715.xws  \n",
            " extracting: mit-bih-arrhythmia-database-1.0.0/mitdbdir/samples/2050457.xws  \n",
            " extracting: mit-bih-arrhythmia-database-1.0.0/mitdbdir/samples/2051454.xws  \n",
            " extracting: mit-bih-arrhythmia-database-1.0.0/mitdbdir/samples/2051522.xws  \n",
            " extracting: mit-bih-arrhythmia-database-1.0.0/mitdbdir/samples/2051603.xws  \n",
            " extracting: mit-bih-arrhythmia-database-1.0.0/mitdbdir/samples/2051615.xws  \n",
            " extracting: mit-bih-arrhythmia-database-1.0.0/mitdbdir/samples/2051957.xws  \n",
            " extracting: mit-bih-arrhythmia-database-1.0.0/mitdbdir/samples/2052418.xws  \n",
            " extracting: mit-bih-arrhythmia-database-1.0.0/mitdbdir/samples/2052430.xws  \n",
            " extracting: mit-bih-arrhythmia-database-1.0.0/mitdbdir/samples/2052757.xws  \n",
            " extracting: mit-bih-arrhythmia-database-1.0.0/mitdbdir/samples/2070000.xws  \n",
            " extracting: mit-bih-arrhythmia-database-1.0.0/mitdbdir/samples/2070033.xws  \n",
            " extracting: mit-bih-arrhythmia-database-1.0.0/mitdbdir/samples/2070045.xws  \n",
            " extracting: mit-bih-arrhythmia-database-1.0.0/mitdbdir/samples/2070057.xws  \n",
            " extracting: mit-bih-arrhythmia-database-1.0.0/mitdbdir/samples/2070128.xws  \n",
            "  inflating: mit-bih-arrhythmia-database-1.0.0/mitdbdir/samples/2070207.xws  \n",
            " extracting: mit-bih-arrhythmia-database-1.0.0/mitdbdir/samples/2070241.xws  \n",
            " extracting: mit-bih-arrhythmia-database-1.0.0/mitdbdir/samples/2070425.xws  \n",
            " extracting: mit-bih-arrhythmia-database-1.0.0/mitdbdir/samples/2070519.xws  \n",
            " extracting: mit-bih-arrhythmia-database-1.0.0/mitdbdir/samples/2070656.xws  \n",
            " extracting: mit-bih-arrhythmia-database-1.0.0/mitdbdir/samples/2071735.xws  \n",
            " extracting: mit-bih-arrhythmia-database-1.0.0/mitdbdir/samples/2072536.xws  \n",
            " extracting: mit-bih-arrhythmia-database-1.0.0/mitdbdir/samples/2072610.xws  \n",
            " extracting: mit-bih-arrhythmia-database-1.0.0/mitdbdir/samples/2072714.xws  \n",
            " extracting: mit-bih-arrhythmia-database-1.0.0/mitdbdir/samples/2072910.xws  \n",
            " extracting: mit-bih-arrhythmia-database-1.0.0/mitdbdir/samples/2081457.xws  \n",
            " extracting: mit-bih-arrhythmia-database-1.0.0/mitdbdir/samples/2081702.xws  \n",
            " extracting: mit-bih-arrhythmia-database-1.0.0/mitdbdir/samples/2081910.xws  \n",
            " extracting: mit-bih-arrhythmia-database-1.0.0/mitdbdir/samples/2082106.xws  \n",
            " extracting: mit-bih-arrhythmia-database-1.0.0/mitdbdir/samples/2082300.xws  \n",
            "  inflating: mit-bih-arrhythmia-database-1.0.0/mitdbdir/samples/2082808.xws  \n",
            " extracting: mit-bih-arrhythmia-database-1.0.0/mitdbdir/samples/2082858.xws  \n",
            " extracting: mit-bih-arrhythmia-database-1.0.0/mitdbdir/samples/2082937.xws  \n",
            " extracting: mit-bih-arrhythmia-database-1.0.0/mitdbdir/samples/2090047.xws  \n",
            " extracting: mit-bih-arrhythmia-database-1.0.0/mitdbdir/samples/2090550.xws  \n",
            " extracting: mit-bih-arrhythmia-database-1.0.0/mitdbdir/samples/2091257.xws  \n",
            " extracting: mit-bih-arrhythmia-database-1.0.0/mitdbdir/samples/2091421.xws  \n",
            " extracting: mit-bih-arrhythmia-database-1.0.0/mitdbdir/samples/2092325.xws  \n",
            " extracting: mit-bih-arrhythmia-database-1.0.0/mitdbdir/samples/2092817.xws  \n",
            " extracting: mit-bih-arrhythmia-database-1.0.0/mitdbdir/samples/2092833.xws  \n",
            " extracting: mit-bih-arrhythmia-database-1.0.0/mitdbdir/samples/2092910.xws  \n",
            " extracting: mit-bih-arrhythmia-database-1.0.0/mitdbdir/samples/2100347.xws  \n",
            " extracting: mit-bih-arrhythmia-database-1.0.0/mitdbdir/samples/2100656.xws  \n",
            " extracting: mit-bih-arrhythmia-database-1.0.0/mitdbdir/samples/2101314.xws  \n",
            " extracting: mit-bih-arrhythmia-database-1.0.0/mitdbdir/samples/2101555.xws  \n",
            " extracting: mit-bih-arrhythmia-database-1.0.0/mitdbdir/samples/2101732.xws  \n",
            " extracting: mit-bih-arrhythmia-database-1.0.0/mitdbdir/samples/2101757.xws  \n",
            " extracting: mit-bih-arrhythmia-database-1.0.0/mitdbdir/samples/2102033.xws  \n",
            " extracting: mit-bih-arrhythmia-database-1.0.0/mitdbdir/samples/2102915.xws  \n",
            " extracting: mit-bih-arrhythmia-database-1.0.0/mitdbdir/samples/2120005.xws  \n",
            " extracting: mit-bih-arrhythmia-database-1.0.0/mitdbdir/samples/2121842.xws  \n",
            " extracting: mit-bih-arrhythmia-database-1.0.0/mitdbdir/samples/2122421.xws  \n",
            " extracting: mit-bih-arrhythmia-database-1.0.0/mitdbdir/samples/2122438.xws  \n",
            " extracting: mit-bih-arrhythmia-database-1.0.0/mitdbdir/samples/2122645.xws  \n",
            " extracting: mit-bih-arrhythmia-database-1.0.0/mitdbdir/samples/2122846.xws  \n",
            " extracting: mit-bih-arrhythmia-database-1.0.0/mitdbdir/samples/2130339.xws  \n",
            " extracting: mit-bih-arrhythmia-database-1.0.0/mitdbdir/samples/2131448.xws  \n",
            " extracting: mit-bih-arrhythmia-database-1.0.0/mitdbdir/samples/2131505.xws  \n",
            " extracting: mit-bih-arrhythmia-database-1.0.0/mitdbdir/samples/2131538.xws  \n",
            " extracting: mit-bih-arrhythmia-database-1.0.0/mitdbdir/samples/2131730.xws  \n",
            " extracting: mit-bih-arrhythmia-database-1.0.0/mitdbdir/samples/2131755.xws  \n",
            " extracting: mit-bih-arrhythmia-database-1.0.0/mitdbdir/samples/2132443.xws  \n",
            " extracting: mit-bih-arrhythmia-database-1.0.0/mitdbdir/samples/2132558.xws  \n",
            " extracting: mit-bih-arrhythmia-database-1.0.0/mitdbdir/samples/2132651.xws  \n",
            " extracting: mit-bih-arrhythmia-database-1.0.0/mitdbdir/samples/2132856.xws  \n",
            " extracting: mit-bih-arrhythmia-database-1.0.0/mitdbdir/samples/2140030.xws  \n",
            " extracting: mit-bih-arrhythmia-database-1.0.0/mitdbdir/samples/2140221.xws  \n",
            " extracting: mit-bih-arrhythmia-database-1.0.0/mitdbdir/samples/2140235.xws  \n",
            " extracting: mit-bih-arrhythmia-database-1.0.0/mitdbdir/samples/2140325.xws  \n",
            " extracting: mit-bih-arrhythmia-database-1.0.0/mitdbdir/samples/2140356.xws  \n",
            " extracting: mit-bih-arrhythmia-database-1.0.0/mitdbdir/samples/2140508.xws  \n",
            " extracting: mit-bih-arrhythmia-database-1.0.0/mitdbdir/samples/2140538.xws  \n",
            " extracting: mit-bih-arrhythmia-database-1.0.0/mitdbdir/samples/2141353.xws  \n",
            " extracting: mit-bih-arrhythmia-database-1.0.0/mitdbdir/samples/2142317.xws  \n",
            " extracting: mit-bih-arrhythmia-database-1.0.0/mitdbdir/samples/2142752.xws  \n",
            " extracting: mit-bih-arrhythmia-database-1.0.0/mitdbdir/samples/2150255.xws  \n",
            " extracting: mit-bih-arrhythmia-database-1.0.0/mitdbdir/samples/2150311.xws  \n",
            " extracting: mit-bih-arrhythmia-database-1.0.0/mitdbdir/samples/2150946.xws  \n",
            " extracting: mit-bih-arrhythmia-database-1.0.0/mitdbdir/samples/2151558.xws  \n",
            " extracting: mit-bih-arrhythmia-database-1.0.0/mitdbdir/samples/2152025.xws  \n",
            " extracting: mit-bih-arrhythmia-database-1.0.0/mitdbdir/samples/2152216.xws  \n",
            " extracting: mit-bih-arrhythmia-database-1.0.0/mitdbdir/samples/2152457.xws  \n",
            " extracting: mit-bih-arrhythmia-database-1.0.0/mitdbdir/samples/2152730.xws  \n",
            " extracting: mit-bih-arrhythmia-database-1.0.0/mitdbdir/samples/2152757.xws  \n",
            " extracting: mit-bih-arrhythmia-database-1.0.0/mitdbdir/samples/2152942.xws  \n",
            " extracting: mit-bih-arrhythmia-database-1.0.0/mitdbdir/samples/2170000.xws  \n",
            " extracting: mit-bih-arrhythmia-database-1.0.0/mitdbdir/samples/2170033.xws  \n",
            " extracting: mit-bih-arrhythmia-database-1.0.0/mitdbdir/samples/2170123.xws  \n",
            " extracting: mit-bih-arrhythmia-database-1.0.0/mitdbdir/samples/2170418.xws  \n",
            " extracting: mit-bih-arrhythmia-database-1.0.0/mitdbdir/samples/2170612.xws  \n",
            " extracting: mit-bih-arrhythmia-database-1.0.0/mitdbdir/samples/2170651.xws  \n",
            " extracting: mit-bih-arrhythmia-database-1.0.0/mitdbdir/samples/2170705.xws  \n",
            " extracting: mit-bih-arrhythmia-database-1.0.0/mitdbdir/samples/2171227.xws  \n",
            " extracting: mit-bih-arrhythmia-database-1.0.0/mitdbdir/samples/2171401.xws  \n",
            " extracting: mit-bih-arrhythmia-database-1.0.0/mitdbdir/samples/2171530.xws  \n",
            " extracting: mit-bih-arrhythmia-database-1.0.0/mitdbdir/samples/2171656.xws  \n",
            " extracting: mit-bih-arrhythmia-database-1.0.0/mitdbdir/samples/2172227.xws  \n",
            " extracting: mit-bih-arrhythmia-database-1.0.0/mitdbdir/samples/2190249.xws  \n",
            " extracting: mit-bih-arrhythmia-database-1.0.0/mitdbdir/samples/2190508.xws  \n",
            " extracting: mit-bih-arrhythmia-database-1.0.0/mitdbdir/samples/2190522.xws  \n",
            " extracting: mit-bih-arrhythmia-database-1.0.0/mitdbdir/samples/2191350.xws  \n",
            " extracting: mit-bih-arrhythmia-database-1.0.0/mitdbdir/samples/2191900.xws  \n",
            " extracting: mit-bih-arrhythmia-database-1.0.0/mitdbdir/samples/2191957.xws  \n",
            " extracting: mit-bih-arrhythmia-database-1.0.0/mitdbdir/samples/2192211.xws  \n",
            " extracting: mit-bih-arrhythmia-database-1.0.0/mitdbdir/samples/2192243.xws  \n",
            " extracting: mit-bih-arrhythmia-database-1.0.0/mitdbdir/samples/2192443.xws  \n",
            " extracting: mit-bih-arrhythmia-database-1.0.0/mitdbdir/samples/2192609.xws  \n",
            " extracting: mit-bih-arrhythmia-database-1.0.0/mitdbdir/samples/2192855.xws  \n",
            " extracting: mit-bih-arrhythmia-database-1.0.0/mitdbdir/samples/2200646.xws  \n",
            " extracting: mit-bih-arrhythmia-database-1.0.0/mitdbdir/samples/2201041.xws  \n",
            " extracting: mit-bih-arrhythmia-database-1.0.0/mitdbdir/samples/2201810.xws  \n",
            " extracting: mit-bih-arrhythmia-database-1.0.0/mitdbdir/samples/2202029.xws  \n",
            " extracting: mit-bih-arrhythmia-database-1.0.0/mitdbdir/samples/2202358.xws  \n",
            " extracting: mit-bih-arrhythmia-database-1.0.0/mitdbdir/samples/2202544.xws  \n",
            " extracting: mit-bih-arrhythmia-database-1.0.0/mitdbdir/samples/2202940.xws  \n",
            " extracting: mit-bih-arrhythmia-database-1.0.0/mitdbdir/samples/2210000.xws  \n",
            " extracting: mit-bih-arrhythmia-database-1.0.0/mitdbdir/samples/2210243.xws  \n",
            " extracting: mit-bih-arrhythmia-database-1.0.0/mitdbdir/samples/2211300.xws  \n",
            " extracting: mit-bih-arrhythmia-database-1.0.0/mitdbdir/samples/2211356.xws  \n",
            " extracting: mit-bih-arrhythmia-database-1.0.0/mitdbdir/samples/2211749.xws  \n",
            " extracting: mit-bih-arrhythmia-database-1.0.0/mitdbdir/samples/2211912.xws  \n",
            " extracting: mit-bih-arrhythmia-database-1.0.0/mitdbdir/samples/2211942.xws  \n",
            " extracting: mit-bih-arrhythmia-database-1.0.0/mitdbdir/samples/2212044.xws  \n",
            " extracting: mit-bih-arrhythmia-database-1.0.0/mitdbdir/samples/2220645.xws  \n",
            " extracting: mit-bih-arrhythmia-database-1.0.0/mitdbdir/samples/2221732.xws  \n",
            " extracting: mit-bih-arrhythmia-database-1.0.0/mitdbdir/samples/2221948.xws  \n",
            " extracting: mit-bih-arrhythmia-database-1.0.0/mitdbdir/samples/2222007.xws  \n",
            "  inflating: mit-bih-arrhythmia-database-1.0.0/mitdbdir/samples/2222232.xws  \n",
            " extracting: mit-bih-arrhythmia-database-1.0.0/mitdbdir/samples/2222443.xws  \n",
            " extracting: mit-bih-arrhythmia-database-1.0.0/mitdbdir/samples/2222543.xws  \n",
            " extracting: mit-bih-arrhythmia-database-1.0.0/mitdbdir/samples/2222609.xws  \n",
            " extracting: mit-bih-arrhythmia-database-1.0.0/mitdbdir/samples/2230935.xws  \n",
            " extracting: mit-bih-arrhythmia-database-1.0.0/mitdbdir/samples/2231235.xws  \n",
            " extracting: mit-bih-arrhythmia-database-1.0.0/mitdbdir/samples/2231339.xws  \n",
            " extracting: mit-bih-arrhythmia-database-1.0.0/mitdbdir/samples/2231351.xws  \n",
            " extracting: mit-bih-arrhythmia-database-1.0.0/mitdbdir/samples/2231721.xws  \n",
            " extracting: mit-bih-arrhythmia-database-1.0.0/mitdbdir/samples/2231755.xws  \n",
            " extracting: mit-bih-arrhythmia-database-1.0.0/mitdbdir/samples/2231907.xws  \n",
            " extracting: mit-bih-arrhythmia-database-1.0.0/mitdbdir/samples/2232358.xws  \n",
            " extracting: mit-bih-arrhythmia-database-1.0.0/mitdbdir/samples/2232547.xws  \n",
            " extracting: mit-bih-arrhythmia-database-1.0.0/mitdbdir/samples/2232916.xws  \n",
            " extracting: mit-bih-arrhythmia-database-1.0.0/mitdbdir/samples/2232951.xws  \n",
            " extracting: mit-bih-arrhythmia-database-1.0.0/mitdbdir/samples/2280019.xws  \n",
            " extracting: mit-bih-arrhythmia-database-1.0.0/mitdbdir/samples/2280038.xws  \n",
            " extracting: mit-bih-arrhythmia-database-1.0.0/mitdbdir/samples/2280050.xws  \n",
            " extracting: mit-bih-arrhythmia-database-1.0.0/mitdbdir/samples/2280435.xws  \n",
            " extracting: mit-bih-arrhythmia-database-1.0.0/mitdbdir/samples/2281918.xws  \n",
            " extracting: mit-bih-arrhythmia-database-1.0.0/mitdbdir/samples/2282008.xws  \n",
            " extracting: mit-bih-arrhythmia-database-1.0.0/mitdbdir/samples/2282137.xws  \n",
            " extracting: mit-bih-arrhythmia-database-1.0.0/mitdbdir/samples/2282149.xws  \n",
            " extracting: mit-bih-arrhythmia-database-1.0.0/mitdbdir/samples/2282642.xws  \n",
            " extracting: mit-bih-arrhythmia-database-1.0.0/mitdbdir/samples/2300000.xws  \n",
            " extracting: mit-bih-arrhythmia-database-1.0.0/mitdbdir/samples/2300012.xws  \n",
            " extracting: mit-bih-arrhythmia-database-1.0.0/mitdbdir/samples/2300511.xws  \n",
            " extracting: mit-bih-arrhythmia-database-1.0.0/mitdbdir/samples/2300926.xws  \n",
            " extracting: mit-bih-arrhythmia-database-1.0.0/mitdbdir/samples/2302904.xws  \n",
            " extracting: mit-bih-arrhythmia-database-1.0.0/mitdbdir/samples/2310002.xws  \n",
            " extracting: mit-bih-arrhythmia-database-1.0.0/mitdbdir/samples/2310224.xws  \n",
            " extracting: mit-bih-arrhythmia-database-1.0.0/mitdbdir/samples/2312011.xws  \n",
            " extracting: mit-bih-arrhythmia-database-1.0.0/mitdbdir/samples/2312110.xws  \n",
            " extracting: mit-bih-arrhythmia-database-1.0.0/mitdbdir/samples/2312322.xws  \n",
            " extracting: mit-bih-arrhythmia-database-1.0.0/mitdbdir/samples/2320058.xws  \n",
            " extracting: mit-bih-arrhythmia-database-1.0.0/mitdbdir/samples/2320151.xws  \n",
            " extracting: mit-bih-arrhythmia-database-1.0.0/mitdbdir/samples/2321151.xws  \n",
            " extracting: mit-bih-arrhythmia-database-1.0.0/mitdbdir/samples/2321306.xws  \n",
            " extracting: mit-bih-arrhythmia-database-1.0.0/mitdbdir/samples/2321509.xws  \n",
            " extracting: mit-bih-arrhythmia-database-1.0.0/mitdbdir/samples/2321817.xws  \n",
            " extracting: mit-bih-arrhythmia-database-1.0.0/mitdbdir/samples/2322231.xws  \n",
            " extracting: mit-bih-arrhythmia-database-1.0.0/mitdbdir/samples/2322247.xws  \n",
            " extracting: mit-bih-arrhythmia-database-1.0.0/mitdbdir/samples/2322320.xws  \n",
            " extracting: mit-bih-arrhythmia-database-1.0.0/mitdbdir/samples/2322334.xws  \n",
            " extracting: mit-bih-arrhythmia-database-1.0.0/mitdbdir/samples/2322353.xws  \n",
            " extracting: mit-bih-arrhythmia-database-1.0.0/mitdbdir/samples/2330011.xws  \n",
            " extracting: mit-bih-arrhythmia-database-1.0.0/mitdbdir/samples/2330025.xws  \n",
            " extracting: mit-bih-arrhythmia-database-1.0.0/mitdbdir/samples/2330218.xws  \n",
            " extracting: mit-bih-arrhythmia-database-1.0.0/mitdbdir/samples/2330243.xws  \n",
            " extracting: mit-bih-arrhythmia-database-1.0.0/mitdbdir/samples/2330339.xws  \n",
            " extracting: mit-bih-arrhythmia-database-1.0.0/mitdbdir/samples/2330502.xws  \n",
            " extracting: mit-bih-arrhythmia-database-1.0.0/mitdbdir/samples/2330943.xws  \n",
            " extracting: mit-bih-arrhythmia-database-1.0.0/mitdbdir/samples/2331620.xws  \n",
            " extracting: mit-bih-arrhythmia-database-1.0.0/mitdbdir/samples/2331802.xws  \n",
            " extracting: mit-bih-arrhythmia-database-1.0.0/mitdbdir/samples/2332223.xws  \n",
            " extracting: mit-bih-arrhythmia-database-1.0.0/mitdbdir/samples/2340016.xws  \n",
            " extracting: mit-bih-arrhythmia-database-1.0.0/mitdbdir/samples/2340637.xws  \n",
            " extracting: mit-bih-arrhythmia-database-1.0.0/mitdbdir/samples/2341401.xws  \n",
            " extracting: mit-bih-arrhythmia-database-1.0.0/mitdbdir/samples/2341426.xws  \n",
            " extracting: mit-bih-arrhythmia-database-1.0.0/mitdbdir/samples/2341702.xws  \n",
            " extracting: mit-bih-arrhythmia-database-1.0.0/mitdbdir/samples/2342126.xws  \n",
            " extracting: mit-bih-arrhythmia-database-1.0.0/mitdbdir/samples/2342317.xws  \n",
            " extracting: mit-bih-arrhythmia-database-1.0.0/mitdbdir/src/contents.gz  \n",
            "  inflating: mit-bih-arrhythmia-database-1.0.0/mitdbdir/src/contents.tr  \n",
            " extracting: mit-bih-arrhythmia-database-1.0.0/mitdbdir/src/cover.gz  \n",
            "  inflating: mit-bih-arrhythmia-database-1.0.0/mitdbdir/src/cover.tr  \n",
            "  inflating: mit-bih-arrhythmia-database-1.0.0/mitdbdir/src/dbnotes-html.c  \n",
            "  inflating: mit-bih-arrhythmia-database-1.0.0/mitdbdir/src/dbnotes.c  \n",
            "  inflating: mit-bih-arrhythmia-database-1.0.0/mitdbdir/src/dbtab.c  \n",
            "  inflating: mit-bih-arrhythmia-database-1.0.0/mitdbdir/src/domit  \n",
            "  inflating: mit-bih-arrhythmia-database-1.0.0/mitdbdir/src/exlist  \n",
            " extracting: mit-bih-arrhythmia-database-1.0.0/mitdbdir/src/extest  \n",
            " extracting: mit-bih-arrhythmia-database-1.0.0/mitdbdir/src/extext.gz  \n",
            "  inflating: mit-bih-arrhythmia-database-1.0.0/mitdbdir/src/extext.tr  \n",
            "  inflating: mit-bih-arrhythmia-database-1.0.0/mitdbdir/src/fdlist  \n",
            " extracting: mit-bih-arrhythmia-database-1.0.0/mitdbdir/src/fdtext.gz  \n",
            "  inflating: mit-bih-arrhythmia-database-1.0.0/mitdbdir/src/fdtext.tr  \n",
            " extracting: mit-bih-arrhythmia-database-1.0.0/mitdbdir/src/index.gz  \n",
            "  inflating: mit-bih-arrhythmia-database-1.0.0/mitdbdir/src/index.tr  \n",
            "  inflating: mit-bih-arrhythmia-database-1.0.0/mitdbdir/src/intro.gz  \n",
            "  inflating: mit-bih-arrhythmia-database-1.0.0/mitdbdir/src/intro.tr  \n",
            "  inflating: mit-bih-arrhythmia-database-1.0.0/mitdbdir/src/makefile  \n",
            "  inflating: mit-bih-arrhythmia-database-1.0.0/mitdbdir/src/makefile-html  \n",
            "  inflating: mit-bih-arrhythmia-database-1.0.0/mitdbdir/src/makelinks.pl  \n",
            " extracting: mit-bih-arrhythmia-database-1.0.0/mitdbdir/src/notes.gz  \n",
            "  inflating: mit-bih-arrhythmia-database-1.0.0/mitdbdir/src/notes.h  \n",
            "  inflating: mit-bih-arrhythmia-database-1.0.0/mitdbdir/src/printdir.bat  \n",
            "  inflating: mit-bih-arrhythmia-database-1.0.0/mitdbdir/src/tab.1  \n",
            "  inflating: mit-bih-arrhythmia-database-1.0.0/mitdbdir/src/tab.2  \n",
            "  inflating: mit-bih-arrhythmia-database-1.0.0/mitdbdir/src/tab.3  \n",
            "  inflating: mit-bih-arrhythmia-database-1.0.0/mitdbdir/src/tab.4  \n",
            " extracting: mit-bih-arrhythmia-database-1.0.0/mitdbdir/src/tab.5  \n",
            "  inflating: mit-bih-arrhythmia-database-1.0.0/mitdbdir/src/tables.gz  \n",
            "  inflating: mit-bih-arrhythmia-database-1.0.0/mitdbdir/src/title.dvi  \n",
            " extracting: mit-bih-arrhythmia-database-1.0.0/mitdbdir/src/title.gz  \n",
            "  inflating: mit-bih-arrhythmia-database-1.0.0/mitdbdir/tables.htm  \n",
            " extracting: mit-bih-arrhythmia-database-1.0.0/x_mitdb/ANNOTATORS  \n",
            "  inflating: mit-bih-arrhythmia-database-1.0.0/x_mitdb/RECORDS  \n",
            "  inflating: mit-bih-arrhythmia-database-1.0.0/x_mitdb/x_108.atr  \n",
            "  inflating: mit-bih-arrhythmia-database-1.0.0/x_mitdb/x_108.dat  \n",
            "  inflating: mit-bih-arrhythmia-database-1.0.0/x_mitdb/x_108.hea  \n",
            "  inflating: mit-bih-arrhythmia-database-1.0.0/x_mitdb/x_109.atr  \n",
            "  inflating: mit-bih-arrhythmia-database-1.0.0/x_mitdb/x_109.dat  \n",
            "  inflating: mit-bih-arrhythmia-database-1.0.0/x_mitdb/x_109.hea  \n",
            "  inflating: mit-bih-arrhythmia-database-1.0.0/x_mitdb/x_111.atr  \n",
            "  inflating: mit-bih-arrhythmia-database-1.0.0/x_mitdb/x_111.dat  \n",
            "  inflating: mit-bih-arrhythmia-database-1.0.0/x_mitdb/x_111.hea  \n",
            "  inflating: mit-bih-arrhythmia-database-1.0.0/x_mitdb/x_112.atr  \n",
            "  inflating: mit-bih-arrhythmia-database-1.0.0/x_mitdb/x_112.dat  \n",
            "  inflating: mit-bih-arrhythmia-database-1.0.0/x_mitdb/x_112.hea  \n",
            "  inflating: mit-bih-arrhythmia-database-1.0.0/x_mitdb/x_113.atr  \n",
            "  inflating: mit-bih-arrhythmia-database-1.0.0/x_mitdb/x_113.dat  \n",
            "  inflating: mit-bih-arrhythmia-database-1.0.0/x_mitdb/x_113.hea  \n",
            "  inflating: mit-bih-arrhythmia-database-1.0.0/x_mitdb/x_114.atr  \n",
            "  inflating: mit-bih-arrhythmia-database-1.0.0/x_mitdb/x_114.dat  \n",
            "  inflating: mit-bih-arrhythmia-database-1.0.0/x_mitdb/x_114.hea  \n",
            "  inflating: mit-bih-arrhythmia-database-1.0.0/x_mitdb/x_115.atr  \n",
            "  inflating: mit-bih-arrhythmia-database-1.0.0/x_mitdb/x_115.dat  \n",
            "  inflating: mit-bih-arrhythmia-database-1.0.0/x_mitdb/x_115.hea  \n",
            "  inflating: mit-bih-arrhythmia-database-1.0.0/x_mitdb/x_116.atr  \n",
            "  inflating: mit-bih-arrhythmia-database-1.0.0/x_mitdb/x_116.dat  \n",
            "  inflating: mit-bih-arrhythmia-database-1.0.0/x_mitdb/x_116.hea  \n",
            "  inflating: mit-bih-arrhythmia-database-1.0.0/x_mitdb/x_117.atr  \n",
            "  inflating: mit-bih-arrhythmia-database-1.0.0/x_mitdb/x_117.dat  \n",
            "  inflating: mit-bih-arrhythmia-database-1.0.0/x_mitdb/x_117.hea  \n",
            "  inflating: mit-bih-arrhythmia-database-1.0.0/x_mitdb/x_121.atr  \n",
            "  inflating: mit-bih-arrhythmia-database-1.0.0/x_mitdb/x_121.dat  \n",
            "  inflating: mit-bih-arrhythmia-database-1.0.0/x_mitdb/x_121.hea  \n",
            "  inflating: mit-bih-arrhythmia-database-1.0.0/x_mitdb/x_122.atr  \n",
            "  inflating: mit-bih-arrhythmia-database-1.0.0/x_mitdb/x_122.dat  \n",
            "  inflating: mit-bih-arrhythmia-database-1.0.0/x_mitdb/x_122.hea  \n",
            "  inflating: mit-bih-arrhythmia-database-1.0.0/x_mitdb/x_123.atr  \n",
            "  inflating: mit-bih-arrhythmia-database-1.0.0/x_mitdb/x_123.dat  \n",
            "  inflating: mit-bih-arrhythmia-database-1.0.0/x_mitdb/x_123.hea  \n",
            "  inflating: mit-bih-arrhythmia-database-1.0.0/x_mitdb/x_124.atr  \n",
            "  inflating: mit-bih-arrhythmia-database-1.0.0/x_mitdb/x_124.dat  \n",
            "  inflating: mit-bih-arrhythmia-database-1.0.0/x_mitdb/x_124.hea  \n",
            "  inflating: mit-bih-arrhythmia-database-1.0.0/x_mitdb/x_220.atr  \n",
            "  inflating: mit-bih-arrhythmia-database-1.0.0/x_mitdb/x_220.dat  \n",
            "  inflating: mit-bih-arrhythmia-database-1.0.0/x_mitdb/x_220.hea  \n",
            "  inflating: mit-bih-arrhythmia-database-1.0.0/x_mitdb/x_221.atr  \n",
            "  inflating: mit-bih-arrhythmia-database-1.0.0/x_mitdb/x_221.dat  \n",
            "  inflating: mit-bih-arrhythmia-database-1.0.0/x_mitdb/x_221.hea  \n",
            "  inflating: mit-bih-arrhythmia-database-1.0.0/x_mitdb/x_222.atr  \n",
            "  inflating: mit-bih-arrhythmia-database-1.0.0/x_mitdb/x_222.dat  \n",
            "  inflating: mit-bih-arrhythmia-database-1.0.0/x_mitdb/x_222.hea  \n",
            "  inflating: mit-bih-arrhythmia-database-1.0.0/x_mitdb/x_223.atr  \n",
            "  inflating: mit-bih-arrhythmia-database-1.0.0/x_mitdb/x_223.dat  \n",
            "  inflating: mit-bih-arrhythmia-database-1.0.0/x_mitdb/x_223.hea  \n",
            "  inflating: mit-bih-arrhythmia-database-1.0.0/x_mitdb/x_228.atr  \n",
            "  inflating: mit-bih-arrhythmia-database-1.0.0/x_mitdb/x_228.dat  \n",
            "  inflating: mit-bih-arrhythmia-database-1.0.0/x_mitdb/x_228.hea  \n",
            "  inflating: mit-bih-arrhythmia-database-1.0.0/x_mitdb/x_230.atr  \n",
            "  inflating: mit-bih-arrhythmia-database-1.0.0/x_mitdb/x_230.dat  \n",
            "  inflating: mit-bih-arrhythmia-database-1.0.0/x_mitdb/x_230.hea  \n",
            "  inflating: mit-bih-arrhythmia-database-1.0.0/x_mitdb/x_231.atr  \n",
            "  inflating: mit-bih-arrhythmia-database-1.0.0/x_mitdb/x_231.dat  \n",
            "  inflating: mit-bih-arrhythmia-database-1.0.0/x_mitdb/x_231.hea  \n",
            "  inflating: mit-bih-arrhythmia-database-1.0.0/x_mitdb/x_232.atr  \n",
            "  inflating: mit-bih-arrhythmia-database-1.0.0/x_mitdb/x_232.dat  \n",
            "  inflating: mit-bih-arrhythmia-database-1.0.0/x_mitdb/x_232.hea  \n",
            "  inflating: mit-bih-arrhythmia-database-1.0.0/x_mitdb/x_233.atr  \n",
            "  inflating: mit-bih-arrhythmia-database-1.0.0/x_mitdb/x_233.dat  \n",
            "  inflating: mit-bih-arrhythmia-database-1.0.0/x_mitdb/x_233.hea  \n",
            "  inflating: mit-bih-arrhythmia-database-1.0.0/x_mitdb/x_234.atr  \n",
            "  inflating: mit-bih-arrhythmia-database-1.0.0/x_mitdb/x_234.dat  \n",
            "  inflating: mit-bih-arrhythmia-database-1.0.0/x_mitdb/x_234.hea  \n"
          ]
        },
        {
          "output_type": "execute_result",
          "data": {
            "text/plain": [
              "['.config',\n",
              " 'mit-bih-arrhythmia-database-1.0.0',\n",
              " 'mit-bih-arrhythmia-database-1.0.0.zip',\n",
              " 'sample_data']"
            ]
          },
          "metadata": {},
          "execution_count": 3
        }
      ]
    },
    {
      "cell_type": "code",
      "metadata": {
        "id": "auburn-problem"
      },
      "source": [
        "# from google.colab import drive\n",
        "# drive.mount('/content/gdrive/')\n",
        "# cloud_directory = '/content/gdrive/My Drive/mit_bih_arrhythmia/'\n",
        "# download_directory = cloud_directory\n",
        "# os.listdir(cloud_directory)"
      ],
      "id": "auburn-problem",
      "execution_count": null,
      "outputs": []
    },
    {
      "cell_type": "markdown",
      "metadata": {
        "id": "meaning-membrane"
      },
      "source": [
        "### 2-2. Data loading and basic statistics\n",
        "데이터는 48개 케이스로 구성되고 각 케이스는 `hea`, `atr`, `dat`, `xws` 파일로 구성되어 있습니다.<br>\n",
        "annotation 관련 정보는 `atr` 파일에 포함되어 있습니다.<br>\n",
        "`wfdb` 패키지의 `rdann` 함수를 사용하여 `atr` 파일 내의 annotation을 불러올 수 있습니다."
      ],
      "id": "meaning-membrane"
    },
    {
      "cell_type": "code",
      "metadata": {
        "colab": {
          "base_uri": "https://localhost:8080/"
        },
        "id": "derived-marble",
        "outputId": "d02b8405-7789-4ab9-dfaf-329fcbe2766a"
      },
      "source": [
        "# datapath\n",
        "datapath = './mit-bih-arrhythmia-database-1.0.0/'\n",
        "# mimic dataset 파일 구성: hea, atr, dat, xws\n",
        "print(os.listdir(datapath))"
      ],
      "id": "derived-marble",
      "execution_count": 4,
      "outputs": [
        {
          "output_type": "stream",
          "name": "stdout",
          "text": [
            "['123.hea', '109.xws', '221.atr', '203.at_', '109.atr', '101.atr', '112.atr', '220.dat', '214.hea', '117.xws', '223.dat', '230.atr', '230.hea', '119.xws', '208.dat', '115.dat', '203.at-', '124.hea', '201.atr', '208.xws', '201.xws', '115.atr', '122.dat', '205.atr', '202.hea', '222.atr', '117.dat', '107.atr', '116.hea', '207.atr', '231.hea', '203.xws', '203.hea', '106.atr', '113.hea', '231.dat', '234.xws', '215.dat', '114.hea', '222.xws', '116.dat', '203.dat', '121.hea', '208.atr', '102.hea', '124.atr', '119.atr', '200.hea', '119.dat', '100.hea', '232.xws', '209.dat', '200.dat', '105.atr', 'SHA256SUMS.txt', '220.atr', '101.hea', '117.atr', '101.dat', '112.hea', '121.dat', '114.dat', '112.xws', '215.at_', '214.dat', '111.xws', '124.dat', '111.dat', '212.dat', '220.xws', '123.dat', '207.dat', '231.xws', '101.xws', '201.hea', '213.atr', '105.xws', '113.dat', '117.at_', '109.hea', '102.xws', '123.xws', '214.xws', '210.dat', '115.hea', '202.dat', '213.xws', '100.xws', '106.dat', '209.atr', '223.hea', '221.xws', '221.dat', '104.dat', '117.hea', '233.hea', '209.at_', '108.at_', '228.atr', '232.dat', '205.xws', '233.dat', '234.hea', '118.atr', '200.atr', '103.hea', '119.hea', '106.hea', 'mitdbdir', '210.atr', '116.atr', '201.dat', '111.hea', '221.hea', '108.hea', '214.atr', '209.xws', '213.hea', '121.atr', '124.xws', '114.atr', '103.xws', '219.xws', '205.dat', '213.dat', '207.hea', '205.hea', 'ANNOTATORS', '118.xws', '102.atr', '219.hea', '106.xws', 'RECORDS', 'x_mitdb', '232.hea', '217.xws', '215.hea', '228.hea', '118.hea', '102-0.atr', '222.hea', '233.atr', '105.hea', '202.atr', '223.atr', '230.xws', '103.dat', '121.xws', '217.atr', '115.xws', '232.atr', '209.hea', '102.dat', '100.atr', '222.dat', '104.xws', '108.xws', '219.atr', '105.dat', '107.xws', '118.dat', '212.xws', '222.at_', '203.atr', '111.atr', '234.atr', '233.xws', '220.hea', '234.dat', '230.dat', '231.atr', '107.hea', '228.xws', '104.hea', '212.hea', '103.atr', '123.atr', '113.xws', '122.atr', '122.hea', '208.hea', '112.dat', '223.xws', '202.xws', '210.hea', '210.xws', '122.xws', '219.dat', '215.atr', '104.atr', '212.atr', '217.hea', '100.dat', '114.xws', '108.atr', '217.dat', '109.dat', '116.xws', '108.dat', '119.at_', '113.atr', '214.at_', '200.xws', '228.dat', '207.xws', '215.xws', '107.dat']\n"
          ]
        }
      ]
    },
    {
      "cell_type": "markdown",
      "metadata": {
        "id": "measured-sampling"
      },
      "source": [
        "데이터에서 환자번호를 뽑아옵니다."
      ],
      "id": "measured-sampling"
    },
    {
      "cell_type": "code",
      "metadata": {
        "id": "juvenile-cargo"
      },
      "source": [
        "header_files = [os.path.basename(x) for x in glob.glob(os.path.join(datapath, '*.hea'))]\n",
        "pids = sorted([x.split('.')[0] for x in header_files])"
      ],
      "id": "juvenile-cargo",
      "execution_count": 5,
      "outputs": []
    },
    {
      "cell_type": "code",
      "metadata": {
        "id": "multiple-diagram"
      },
      "source": [
        "# annotation 파일 불러와서 label의 분포 확인\n",
        "df = pd.DataFrame()\n",
        "\n",
        "for pid in pids:\n",
        "    file = os.path.join(datapath, pid)\n",
        "    annotation = wfdb.rdann(os.path.join(file), 'atr')  ##rdann : read annotions\n",
        "    symbols = annotation.symbol\n",
        "    \n",
        "    values, cnts = np.unique(symbols, return_counts=True)\n",
        "    df_sub = pd.DataFrame({'symbol': values, 'value': cnts, 'pid':[pid] * len(cnts)})\n",
        "    df = pd.concat([df, df_sub], axis=0)"
      ],
      "id": "multiple-diagram",
      "execution_count": 7,
      "outputs": []
    },
    {
      "cell_type": "markdown",
      "metadata": {
        "id": "surprised-tissue"
      },
      "source": [
        "대부분의 annotation은 `N` symbol, 즉 정상 beat annotation을 가지고 있습니다."
      ],
      "id": "surprised-tissue"
    },
    {
      "cell_type": "code",
      "metadata": {
        "scrolled": false,
        "colab": {
          "base_uri": "https://localhost:8080/"
        },
        "id": "right-arbor",
        "outputId": "504de50f-b0ee-4160-9030-b7a24d745c3e"
      },
      "source": [
        "# Annotation 파일의 분포\n",
        "df.groupby('symbol').value.sum().sort_values(ascending = False)"
      ],
      "id": "right-arbor",
      "execution_count": 8,
      "outputs": [
        {
          "output_type": "execute_result",
          "data": {
            "text/plain": [
              "symbol\n",
              "N    75052\n",
              "L     8075\n",
              "R     7259\n",
              "V     7130\n",
              "/     7028\n",
              "A     2546\n",
              "+     1291\n",
              "f      982\n",
              "F      803\n",
              "~      616\n",
              "!      472\n",
              "\"      437\n",
              "j      229\n",
              "x      193\n",
              "a      150\n",
              "|      132\n",
              "E      106\n",
              "J       83\n",
              "Q       33\n",
              "e       16\n",
              "[        6\n",
              "]        6\n",
              "S        2\n",
              "Name: value, dtype: int64"
            ]
          },
          "metadata": {},
          "execution_count": 8
        }
      ]
    },
    {
      "cell_type": "markdown",
      "metadata": {
        "id": "surrounded-folks"
      },
      "source": [
        "MIT-BIH arrhythmia dataset에 포함되는 모든 annotation은 다음과 같습니다.<br>\n",
        "보다 자세한 내용은 아래 공식 홈페이지에서 확인할 수 있습니다.<br>\n",
        "\n",
        "> reference: <br> \n",
        "> https://www.physionet.org/physiobank/database/html/mitdbdir/tables.htm\n",
        "\n",
        "Beat annotations:<br>\n",
        "\n",
        "|Code\t|\tDescription    |\n",
        "| :-: | :- |\n",
        "| N\t|\tNormal beat <br>(displayed as \"·\" by the PhysioBank ATM, LightWAVE, pschart, and psfd)|\n",
        "|L\t|\tLeft bundle branch block beat |\n",
        "|R\t|\tRight bundle branch block beat |\n",
        "|B\t|\tBundle branch block beat (unspecified) |\n",
        "|A\t|\tAtrial premature beat |\n",
        "|a\t|\tAberrated atrial premature beat |\n",
        "|J\t|\tNodal (junctional) premature beat |\n",
        "|S\t|\tSupraventricular premature or ectopic beat (atrial or nodal) |\n",
        "|V\t|\tPremature ventricular contraction |\n",
        "|r\t|\tR-on-T premature ventricular contraction |\n",
        "|F\t|\tFusion of ventricular and normal beat |\n",
        "|e\t|\tAtrial escape beat |\n",
        "|j\t|\tNodal (junctional) escape beat |\n",
        "|n\t|\tSupraventricular escape beat (atrial or nodal) |\n",
        "|E\t|\tVentricular escape beat |\n",
        "|/\t|\tPaced beat |\n",
        "|f\t|\tFusion of paced and normal beat |\n",
        "|Q\t|\tUnclassifiable beat |\n",
        "|?\t|\tBeat not classified during learning |\n",
        "\n",
        "Non-beat annotations:<br>\n",
        "\n",
        "|Code\t|\tDescription|\n",
        "| :-: | :- |\n",
        "|\\[\t|\tStart of ventricular flutter/fibrillation |\n",
        "|!\t|\tVentricular flutter wave |\n",
        "|\\]\t|\tEnd of ventricular flutter/fibrillation |\n",
        "|x\t|\tNon-conducted P-wave (blocked APC) |\n",
        "|(\t|\tWaveform onset |\n",
        "|)\t|\tWaveform end |\n",
        "|p\t|\tPeak of P-wave |\n",
        "|t\t|\tPeak of T-wave |\n",
        "|u\t|\tPeak of U-wave |\n",
        "|\\`\t|\tPQ junction |\n",
        "|'\t|\tJ-point |\n",
        "|^\t|\t(Non-captured) pacemaker artifact |\n",
        "||\t|\tIsolated QRS-like artifact |\n",
        "|~\t|\tChange in signal quality |\n",
        "|+\t|\tRhythm change |\n",
        "|s\t|\tST segment change |\n",
        "|T\t|\tT-wave change |\n",
        "|*\t|\tSystole |\n",
        "|D\t|\tDiastole |\n",
        "|=\t|\tMeasurement annotation |\n",
        "|\"\t|\tComment annotation |\n",
        "|@\t|\tLink to external data |\n",
        "\n"
      ],
      "id": "surrounded-folks"
    },
    {
      "cell_type": "markdown",
      "metadata": {
        "id": "about-cemetery"
      },
      "source": [
        "본 강좌에서는 non-beat annotation은 모두 무시하고, 정상과 비정상 beat만 구분하여 arrhythmia를 detect 할 수 있는 딥러닝 모델을 만들어 보겠습니다."
      ],
      "id": "about-cemetery"
    },
    {
      "cell_type": "code",
      "metadata": {
        "id": "comprehensive-routine"
      },
      "source": [
        "# list of nonbeat and abnormal\n",
        "nonbeat = ['[','!',']','x','(',')','p','t','u','`',\n",
        "           '\\'','^','|','~','+','s','T','*','D','=','\"','@','Q','?']\n",
        "abnormal = ['L','R','V','/','A','f','F','j','a','E','J','e','S']"
      ],
      "id": "comprehensive-routine",
      "execution_count": 9,
      "outputs": []
    },
    {
      "cell_type": "code",
      "metadata": {
        "id": "banner-penny"
      },
      "source": [
        "# normal, abnormal, nonbeat의 비율 구성 확인\n",
        "df['type'] = -1 # nonbeat\n",
        "df.loc[df.symbol == 'N', 'type'] = 0 # normal\n",
        "df.loc[df.symbol.isin(abnormal), 'type'] = 1 # abnormal"
      ],
      "id": "banner-penny",
      "execution_count": 10,
      "outputs": []
    },
    {
      "cell_type": "code",
      "metadata": {
        "colab": {
          "base_uri": "https://localhost:8080/"
        },
        "id": "cultural-reset",
        "outputId": "c7381a9c-fdce-4f28-fe4d-e50deb6c48df"
      },
      "source": [
        "df.groupby('type').value.sum()"
      ],
      "id": "cultural-reset",
      "execution_count": 11,
      "outputs": [
        {
          "output_type": "execute_result",
          "data": {
            "text/plain": [
              "type\n",
              "-1     3186\n",
              " 0    75052\n",
              " 1    34409\n",
              "Name: value, dtype: int64"
            ]
          },
          "metadata": {},
          "execution_count": 11
        }
      ]
    },
    {
      "cell_type": "markdown",
      "metadata": {
        "id": "mechanical-professor"
      },
      "source": [
        "#### Define ECG data loading function\n",
        "`wfdb` 패키지를 이용하여 ECG waveform과 annotation을 불러올 수 있는 함수를 정의합니다.<br>\n",
        "`rdrecord` 함수를 이용하여 raw signal 데이터를 불러옵니다 <br>\n",
        "`rdann` 함수를 이용하여 annotation 데이터의 symbol 과 symbol의 index를 불러옵니다."
      ],
      "id": "mechanical-professor"
    },
    {
      "cell_type": "code",
      "metadata": {
        "id": "mighty-wrong"
      },
      "source": [
        "# load single patient's ecg signal and annotation\n",
        "def load_ecg(file):\n",
        "    \"\"\"\n",
        "    wfdb.rdrecord 를 이용해서 ecg 파일을 읽어옵니다.\n",
        "    \"\"\"\n",
        "    \n",
        "    # load the ecg\n",
        "    record = wfdb.rdrecord(file)\n",
        "    # load the annotation\n",
        "    annotation = wfdb.rdann(file, 'atr')\n",
        "    \n",
        "    # extract the signal\n",
        "    p_signal = record.p_signal\n",
        "    \n",
        "    # verify frequency is 360\n",
        "    assert record.fs == 360, 'sample freq is not 360'  ## -> 이런 상황일때 경고가 뜨도록 만들어줌.\n",
        "    \n",
        "    # extract symbols and annotation index\n",
        "    atr_sym = annotation.symbol\n",
        "    atr_index = annotation.sample\n",
        "    \n",
        "    return p_signal, atr_sym, atr_index"
      ],
      "id": "mighty-wrong",
      "execution_count": 12,
      "outputs": []
    },
    {
      "cell_type": "markdown",
      "metadata": {
        "id": "according-arbor"
      },
      "source": [
        "예시로 신호 데이터의 일부를 plotting 해보면 다음과 같습니다.<br>\n",
        "여기서, 각 변수는 다음을 의미합니다. <br>\n",
        "`p_signal` = raw ecg signal <br>\n",
        "`atr_sym` = annotation symbol <br>\n",
        "`atr_sample` = annotation index <br>"
      ],
      "id": "according-arbor"
    },
    {
      "cell_type": "code",
      "metadata": {
        "colab": {
          "base_uri": "https://localhost:8080/",
          "height": 284
        },
        "id": "conscious-extra",
        "outputId": "2d25a38b-8737-4b1d-c80a-18fdd8e37a8c"
      },
      "source": [
        "file = os.path.join(datapath, pids[0])\n",
        "p_signal, atr_sym, atr_sample = load_ecg(file)\n",
        "plt.plot(p_signal[1000:2000, 0])"
      ],
      "id": "conscious-extra",
      "execution_count": 13,
      "outputs": [
        {
          "output_type": "execute_result",
          "data": {
            "text/plain": [
              "[<matplotlib.lines.Line2D at 0x7fb9309979d0>]"
            ]
          },
          "metadata": {},
          "execution_count": 13
        },
        {
          "output_type": "display_data",
          "data": {
            "image/png": "[encoded data removed]",
            "text/plain": [
              "<Figure size 432x288 with 1 Axes>"
            ]
          },
          "metadata": {
            "needs_background": "light"
          }
        }
      ]
    },
    {
      "cell_type": "markdown",
      "metadata": {
        "id": "usual-return"
      },
      "source": [
        "이 환자 케이스에서 가지고 있는 annotation을 살펴보면 다음과 같습니다."
      ],
      "id": "usual-return"
    },
    {
      "cell_type": "code",
      "metadata": {
        "colab": {
          "base_uri": "https://localhost:8080/"
        },
        "id": "professional-tyler",
        "outputId": "54b01101-735b-4062-ab12-7a207f12934e"
      },
      "source": [
        "values, counts = np.unique(atr_sym, return_counts = True)\n",
        "for v, c in zip(values, counts):\n",
        "    print(v, c)"
      ],
      "id": "professional-tyler",
      "execution_count": 14,
      "outputs": [
        {
          "output_type": "stream",
          "name": "stdout",
          "text": [
            "+ 1\n",
            "A 33\n",
            "N 2239\n",
            "V 1\n"
          ]
        }
      ]
    },
    {
      "cell_type": "markdown",
      "metadata": {
        "id": "assisted-tracy"
      },
      "source": [
        "이 중 abnormal에 해당되는 annotation의 위치를 살펴보면 다음과 같습니다."
      ],
      "id": "assisted-tracy"
    },
    {
      "cell_type": "code",
      "metadata": {
        "colab": {
          "base_uri": "https://localhost:8080/"
        },
        "id": "impaired-october",
        "outputId": "9ee68b9d-73e4-4336-f5e5-d229215714aa"
      },
      "source": [
        "# get abnormal beat index\n",
        "ab_index = [b for a,b in zip(atr_sym,atr_sample) if a in abnormal][:10]\n",
        "ab_index"
      ],
      "id": "impaired-october",
      "execution_count": 15,
      "outputs": [
        {
          "output_type": "execute_result",
          "data": {
            "text/plain": [
              "[2044, 66792, 74986, 99579, 128085, 170719, 279576, 305709, 307745, 312825]"
            ]
          },
          "metadata": {},
          "execution_count": 15
        }
      ]
    },
    {
      "cell_type": "markdown",
      "metadata": {
        "id": "imported-trust"
      },
      "source": [
        "위의 abnormal에 해당되는 annotation의 index를 기준으로, 전후 3초의 ecg signal을 plotting 해보면 다음과 같습니다. "
      ],
      "id": "imported-trust"
    },
    {
      "cell_type": "code",
      "metadata": {
        "colab": {
          "base_uri": "https://localhost:8080/",
          "height": 497
        },
        "id": "intended-richardson",
        "outputId": "d78bd4da-5d0e-45e5-d8c8-a2956e2fa10b"
      },
      "source": [
        "x = np.arange(len(p_signal))\n",
        "left = ab_index[1]-(360*3) # 전 3초\n",
        "right = ab_index[1]+(360*3) # 후 3초\n",
        "\n",
        "plt.figure(figsize=(15, 8))\n",
        "plt.plot(x[left:right],p_signal[left:right,0],'-',label='ecg',)\n",
        "plt.plot(x[atr_sample],p_signal[atr_sample,0],'go',label ='normal')\n",
        "plt.plot(x[ab_index],p_signal[ab_index,0],'ro',label='abnormal')\n",
        "\n",
        "plt.xlim(left,right)\n",
        "plt.ylim(p_signal[left:right].min()-0.05,p_signal[left:right,0].max()+0.05)\n",
        "plt.xlabel('time index')\n",
        "plt.ylabel('ECG signal')\n",
        "plt.legend(bbox_to_anchor = (1.04,1), loc = 'upper left')\n",
        "plt.show()"
      ],
      "id": "intended-richardson",
      "execution_count": 16,
      "outputs": [
        {
          "output_type": "display_data",
          "data": {
            "image/png": "[encoded data removed]",
            "text/plain": [
              "<Figure size 1080x576 with 1 Axes>"
            ]
          },
          "metadata": {
            "needs_background": "light"
          }
        }
      ]
    },
    {
      "cell_type": "markdown",
      "metadata": {
        "id": "funded-familiar"
      },
      "source": [
        "***"
      ],
      "id": "funded-familiar"
    },
    {
      "cell_type": "markdown",
      "metadata": {
        "id": "dense-monaco"
      },
      "source": [
        "## 3. Preparing dataset for deep learning\n",
        "\n",
        "### 3-1. Define functions to build dataset for deep learning\n",
        "이제 본격적으로 딥러닝에 사용할 데이터셋을 구축 해보겠습니다.<br>\n",
        "데이터셋 구축 방법은 딥러닝 모델의 구조와 추후 모델 활용 방식에 따라 여러가지가 있을 수 있습니다.<br>\n",
        "본 강의에서는 `n`초의 raw signal waveform내에 arrhythmia를 포함하는지 아닌지를 detect 할 수 있는 딥러닝 모델을 만들어 보겠습니다.<br>\n",
        "annotation 된 index를 기준으로, 전 후 `n/2`초의 raw signal을 하나의 segment로 자르고 그에 상응하는 annotation symbol을 label로 지정하여 데이터셋을 구축하겠습니다.<br>\n",
        "<br>\n",
        "우선 non-beat annotation을 제외하고 normal symbol과 abnormal symbol의 index만 추출합니다.<br>\n",
        "추출된 annotation index를 기준으로 순회하며 abnormal symbol인 경우는 `Y` 값에 `1`을 할당하고, normal beat는 `0`을 할당합니다.<br>\n",
        "또한 대응되는 annotation symbol을 별도로 추출하여 `symbol`값에 할당합니다."
      ],
      "id": "dense-monaco"
    },
    {
      "cell_type": "code",
      "metadata": {
        "id": "incorporate-oasis"
      },
      "source": [
        "def build_dataset(pids, window_size, freq, abnormal):\n",
        "    \"\"\"\n",
        "    딥러닝 모델 학습을 위한 데이터를 구축합니다.\n",
        "    \"\"\"\n",
        "    ncols = window_size * freq\n",
        "    X_merged = np.zeros((1, ncols))\n",
        "    Y_merged = np.zeros((1,1))\n",
        "    symbol_merged = []\n",
        "    \n",
        "    rows_per_pid = []\n",
        "    \n",
        "    for pid in tqdm.tqdm(pids):\n",
        "        \n",
        "        filename = datapath + pid\n",
        "        p_signal, atr_sym, atr_sample = load_ecg(filename)\n",
        "        \n",
        "        p_signal = p_signal[:,0]\n",
        "        \n",
        "        # beat index (exclude non-beat)\n",
        "        beat_annotation_index = [x in (abnormal + ['N']) for x in atr_sym]\n",
        "        \n",
        "        X, Y, symbols = build_XY(signal=p_signal, \n",
        "                                 atr_sym = atr_sym, \n",
        "                                 atr_sample = atr_sample,\n",
        "                                 beat_index = beat_annotation_index, \n",
        "                                 nsec = window_size/2, \n",
        "                                 fs = freq,\n",
        "                                 ncols = ncols,\n",
        "                                 abnormal = abnormal)\n",
        "        \n",
        "        X_merged = np.append(X_merged, X, axis=0)\n",
        "        Y_merged = np.append(Y_merged, Y, axis=0)\n",
        "        symbol_merged = symbol_merged + symbols\n",
        "        rows_per_pid.append(Y.shape[0])\n",
        "        \n",
        "    # drop first zero rows\n",
        "    X_merged = X_merged[1:,:]\n",
        "    Y_merged = Y_merged[1:,:]\n",
        "    \n",
        "    # check sizes make sense\n",
        "    assert np.sum(rows_per_pid) == X_merged.shape[0], 'number of X, max_rows rows messed up'\n",
        "    assert Y_merged.shape[0] == X_merged.shape[0], 'number of X, Y rows messed up'\n",
        "    assert Y_merged.shape[0] == len(symbol_merged), 'number of Y, sym rows messed up'\n",
        "    \n",
        "    return X_merged, Y_merged, symbol_merged\n",
        "\n",
        "\n",
        "def build_XY(signal, atr_sym, atr_sample, beat_index, nsec, fs, ncols, abnormal):\n",
        "    \"\"\"\n",
        "    하나의 환자 id에서 signal과 annotation을 추출합니다.\n",
        "    \"\"\"\n",
        "    \n",
        "    num_rows = len(beat_index)\n",
        "\n",
        "    X = np.zeros((num_rows, ncols))\n",
        "    Y = np.zeros((num_rows,1))\n",
        "    symbols = []\n",
        "    \n",
        "    # keep track of rows\n",
        "    max_row = 0\n",
        "    \n",
        "    beat_atr_sym = np.array(atr_sym)[beat_index]\n",
        "    beat_atr_sample = np.array(atr_sample)[beat_index]\n",
        "\n",
        "    for sym, samp in zip(beat_atr_sym, beat_atr_sample):\n",
        "\n",
        "        left = int(max([0,(samp - nsec*fs) ]))\n",
        "        right = int(min([len(signal),(samp + nsec*fs) ]))\n",
        "        \n",
        "        x = signal[left: right]\n",
        "        if len(x) == ncols:\n",
        "            X[max_row,:] = x\n",
        "            Y[max_row,:] = int(sym in abnormal)\n",
        "            symbols.append(sym)\n",
        "            max_row += 1\n",
        "    X = X[:max_row,:]\n",
        "    Y = Y[:max_row,:]\n",
        "    return X, Y, symbols"
      ],
      "id": "incorporate-oasis",
      "execution_count": 17,
      "outputs": []
    },
    {
      "cell_type": "markdown",
      "metadata": {
        "id": "planned-printer"
      },
      "source": [
        "### 3-2. Build train and validation dataset\n",
        "train과 validation에 사용할 데이터셋을 각각 구축합니다.<br>\n",
        "일반적인 딥러닝 학습시에는 다음과 같이 데이터를 구축합니다.<br>\n",
        "1. `train dataset`\n",
        "2. `validation dataset`\n",
        "3. `test dataset`\n",
        "\n",
        "`train dataset`은 딥러닝 모델 학습에 사용되고, <br>\n",
        "`validation dataset`은 딥러닝 학습 시 overfitting 등을 검증하는데 활용되고,<br>\n",
        "`test dataset`은 딥러닝 모델 평가에 활용됩니다.<br>\n",
        "<br>\n",
        "본 강의에서는 편의상 `train dataset` 과 `validation dataset` 만 구축하여 모델을 학습하고 그 과정을 확인해보겠습니다. <br>\n",
        "<br>\n",
        "<font color='darkred'>여기서 주의할점은</font>, **case 기준으로 train과 validation을 구분해야 한다는 것**입니다.<br>\n",
        "case를 구분하지 않고 전체 sample에서 random하게 train/validation을 구분할 경우 딥러닝 모델의 성능은 우수한 것으로 나올 수 있지만 실제 성능은 (training data이외의 데이터에서 평가시) 성능이 떨어지는 경우가 발생할 수 있습니다.<br>\n"
      ],
      "id": "planned-printer"
    },
    {
      "cell_type": "code",
      "metadata": {
        "id": "beneficial-valley"
      },
      "source": [
        "# 6초의 segment로 데이터 구축\n",
        "window_size = 6\n",
        "frequency = 360\n",
        "batch_size = 1000"
      ],
      "id": "beneficial-valley",
      "execution_count": 18,
      "outputs": []
    },
    {
      "cell_type": "code",
      "metadata": {
        "id": "configured-waters"
      },
      "source": [
        "# dataset split\n",
        "random.seed(77)\n",
        "pids_test = random.sample(pids, int(len(pids) / 4))\n",
        "pids_train = [pid for pid in pids if pid not in pids_test]"
      ],
      "id": "configured-waters",
      "execution_count": 19,
      "outputs": []
    },
    {
      "cell_type": "code",
      "metadata": {
        "colab": {
          "base_uri": "https://localhost:8080/"
        },
        "id": "dental-malawi",
        "outputId": "d7038640-0f42-4089-f2cd-fc4d236569e0"
      },
      "source": [
        "# build dataset\n",
        "X_train, Y_train, symbol_train = build_dataset(pids_train, \n",
        "                                               window_size, \n",
        "                                               frequency, \n",
        "                                               abnormal)\n",
        "X_test, Y_test, symbol_test = build_dataset(pids_test,\n",
        "                                              window_size,\n",
        "                                              frequency,\n",
        "                                              abnormal)\n",
        "\n",
        "print(\"Shape of train dataset: \\n X: {} \\n Y: {} \\n symbol: {} \\n\".format(\n",
        "X_train.shape, Y_train.shape, len(symbol_train)))\n",
        "print(\"Shape of test dataset: \\n X: {} \\n Y: {} \\n symbol: {} \\n\".format(\n",
        "X_test.shape, Y_test.shape, len(symbol_test)))"
      ],
      "id": "dental-malawi",
      "execution_count": 20,
      "outputs": [
        {
          "output_type": "stream",
          "name": "stderr",
          "text": [
            "100%|██████████| 36/36 [00:09<00:00,  3.79it/s]\n",
            "100%|██████████| 12/12 [00:01<00:00,  6.04it/s]"
          ]
        },
        {
          "output_type": "stream",
          "name": "stdout",
          "text": [
            "Shape of train dataset: \n",
            " X: (82168, 2160) \n",
            " Y: (82168, 1) \n",
            " symbol: 82168 \n",
            "\n",
            "Shape of test dataset: \n",
            " X: (26931, 2160) \n",
            " Y: (26931, 1) \n",
            " symbol: 26931 \n",
            "\n"
          ]
        },
        {
          "output_type": "stream",
          "name": "stderr",
          "text": [
            "\n"
          ]
        }
      ]
    },
    {
      "cell_type": "code",
      "metadata": {
        "colab": {
          "base_uri": "https://localhost:8080/"
        },
        "id": "convinced-combining",
        "outputId": "277c6f2b-6c4e-49b9-939c-1a2591b4a45d"
      },
      "source": [
        "# train / test set symbol 확인\n",
        "print(np.unique(symbol_train))\n",
        "print(np.unique(symbol_test))"
      ],
      "id": "convinced-combining",
      "execution_count": 21,
      "outputs": [
        {
          "output_type": "stream",
          "name": "stdout",
          "text": [
            "['/' 'A' 'E' 'F' 'J' 'L' 'N' 'R' 'S' 'V' 'a' 'e' 'f' 'j']\n",
            "['/' 'A' 'F' 'L' 'N' 'R' 'V' 'a' 'j']\n"
          ]
        }
      ]
    },
    {
      "cell_type": "code",
      "metadata": {
        "colab": {
          "base_uri": "https://localhost:8080/"
        },
        "id": "critical-place",
        "outputId": "ade5e148-e808-4eb1-8f49-e30241198b6d"
      },
      "source": [
        "# train과 test set의 abnormal 비율 확인\n",
        "print('{:.3f} %'.format((Y_train.sum() / len(Y_train))* 100))\n",
        "print('{:.3f} %'.format((Y_test.sum() / len(Y_test))* 100))"
      ],
      "id": "critical-place",
      "execution_count": 22,
      "outputs": [
        {
          "output_type": "stream",
          "name": "stdout",
          "text": [
            "30.569 %\n",
            "34.109 %\n"
          ]
        }
      ]
    },
    {
      "cell_type": "markdown",
      "metadata": {
        "id": "thrown-aside"
      },
      "source": [
        "***"
      ],
      "id": "thrown-aside"
    },
    {
      "cell_type": "markdown",
      "metadata": {
        "id": "billion-thriller"
      },
      "source": [
        "## 4. Deep Learning model training - binary classification\n",
        "\n",
        "첫번째 예제로 binary classification (이진분류) 을 수행해 보겠습니다.<br>\n",
        "아주 단순한 Artificial Neural Network 모델을 사용할 것입니다.<br>\n",
        "딥러닝 모델의 예측 결과가 0인 경우 normal beat 에 해당되고 1인 경우 abnormal에 해당합니다."
      ],
      "id": "billion-thriller"
    },
    {
      "cell_type": "code",
      "metadata": {
        "id": "romance-detection"
      },
      "source": [
        "import tensorflow as tf\n",
        "from keras.models import Sequential\n",
        "from keras.layers import Dense, Flatten, Dropout\n",
        "from keras import optimizers"
      ],
      "id": "romance-detection",
      "execution_count": 23,
      "outputs": []
    },
    {
      "cell_type": "markdown",
      "metadata": {
        "id": "anticipated-remove"
      },
      "source": [
        "### 4-1. Define Fully Connected Network\n",
        "아주 간단한 딥러닝 모델을 정의합니다.<br>\n",
        "우선 다른 모듈을 사용하지 않고 단순한 linear layer 2개층을 가지는 네트워크를 생성해보겠습니다.<br>\n",
        "모델의 input은 2160 sized raw waveform (360\\*6=2160)이고 중간에 512개와 128개의 neuron을 갖는 layer를 하나 가지고 있는 단순한 네트워크 입니다.<br>\n",
        "이진 분류를 위해서 모델 output에 `sigmoid` 함수를 취합니다.<br>\n",
        "`Keras`에서는 모델을 선언 후 컴파일해주어야 합니다. 이때 loss function과 optimizer 등을 정의합니다."
      ],
      "id": "anticipated-remove"
    },
    {
      "cell_type": "code",
      "metadata": {
        "id": "fatty-banana"
      },
      "source": [
        "fcn_model = Sequential()\n",
        "fcn_model.add(Dense(512, activation = 'relu'))\n",
        "fcn_model.add(Dropout(rate=0.25))\n",
        "fcn_model.add(Dense(128, activation = 'relu'))\n",
        "fcn_model.add(Dropout(rate=0.25))\n",
        "fcn_model.add(Dense(1, activation='sigmoid'))\n",
        "\n",
        "adam_optimizer = tf.keras.optimizers.Adam(lr=0.00005)\n",
        "fcn_model.compile(loss='binary_crossentropy', optimizer=adam_optimizer, metrics=['accuracy'])"
      ],
      "id": "fatty-banana",
      "execution_count": 24,
      "outputs": []
    },
    {
      "cell_type": "markdown",
      "metadata": {
        "id": "intelligent-albania"
      },
      "source": [
        "### 4-2. Model fitting\n",
        "모델을 학습시킵니다.<br>\n",
        "학습 결과를 `train_history`에 저장하고 학습 과정동안의 loss 변화와 accuracy 변화를 확인합니다.<br>\n",
        "Training 데이터의 일부 (여기서는 20%) 를 validation을 위해 사용합니다."
      ],
      "id": "intelligent-albania"
    },
    {
      "cell_type": "code",
      "metadata": {
        "colab": {
          "base_uri": "https://localhost:8080/"
        },
        "id": "polar-violation",
        "outputId": "558ceac3-88da-4338-9604-73b30f7f1788"
      },
      "source": [
        "fcn_train_history = fcn_model.fit(X_train, Y_train, epochs=10, batch_size = batch_size, verbose=1,\n",
        "                         validation_split = 0.2)"
      ],
      "id": "polar-violation",
      "execution_count": 25,
      "outputs": [
        {
          "output_type": "stream",
          "name": "stdout",
          "text": [
            "Epoch 1/10\n",
            "66/66 [==============================] - 4s 17ms/step - loss: 0.5427 - accuracy: 0.7462 - val_loss: 0.3799 - val_accuracy: 0.8627\n",
            "Epoch 2/10\n",
            "66/66 [==============================] - 1s 13ms/step - loss: 0.3946 - accuracy: 0.8423 - val_loss: 0.3329 - val_accuracy: 0.8746\n",
            "Epoch 3/10\n",
            "66/66 [==============================] - 1s 13ms/step - loss: 0.3248 - accuracy: 0.8768 - val_loss: 0.2983 - val_accuracy: 0.8871\n",
            "Epoch 4/10\n",
            "66/66 [==============================] - 1s 13ms/step - loss: 0.2741 - accuracy: 0.9006 - val_loss: 0.2704 - val_accuracy: 0.8984\n",
            "Epoch 5/10\n",
            "66/66 [==============================] - 1s 13ms/step - loss: 0.2361 - accuracy: 0.9154 - val_loss: 0.2524 - val_accuracy: 0.9079\n",
            "Epoch 6/10\n",
            "66/66 [==============================] - 1s 13ms/step - loss: 0.2083 - accuracy: 0.9283 - val_loss: 0.2423 - val_accuracy: 0.9154\n",
            "Epoch 7/10\n",
            "66/66 [==============================] - 1s 13ms/step - loss: 0.1811 - accuracy: 0.9392 - val_loss: 0.2378 - val_accuracy: 0.9182\n",
            "Epoch 8/10\n",
            "66/66 [==============================] - 1s 13ms/step - loss: 0.1619 - accuracy: 0.9480 - val_loss: 0.2321 - val_accuracy: 0.9234\n",
            "Epoch 9/10\n",
            "66/66 [==============================] - 1s 13ms/step - loss: 0.1451 - accuracy: 0.9539 - val_loss: 0.2360 - val_accuracy: 0.9242\n",
            "Epoch 10/10\n",
            "66/66 [==============================] - 1s 13ms/step - loss: 0.1327 - accuracy: 0.9594 - val_loss: 0.2381 - val_accuracy: 0.9252\n"
          ]
        }
      ]
    },
    {
      "cell_type": "code",
      "metadata": {
        "scrolled": true,
        "colab": {
          "base_uri": "https://localhost:8080/",
          "height": 312
        },
        "id": "difficult-roller",
        "outputId": "31821209-611b-4674-e2ab-362ffc86465f"
      },
      "source": [
        "plt.plot(fcn_train_history.history['accuracy'])\n",
        "plt.plot(fcn_train_history.history['val_accuracy'])\n",
        "plt.title('model accuracy')\n",
        "plt.ylabel('accuracy')\n",
        "plt.xlabel('epoch')\n",
        "plt.legend(['train', 'valid'], loc='upper left')"
      ],
      "id": "difficult-roller",
      "execution_count": 26,
      "outputs": [
        {
          "output_type": "execute_result",
          "data": {
            "text/plain": [
              "<matplotlib.legend.Legend at 0x7fb8ee694190>"
            ]
          },
          "metadata": {},
          "execution_count": 26
        },
        {
          "output_type": "display_data",
          "data": {
            "image/png": "[encoded data removed]",
            "text/plain": [
              "<Figure size 432x288 with 1 Axes>"
            ]
          },
          "metadata": {
            "needs_background": "light"
          }
        }
      ]
    },
    {
      "cell_type": "code",
      "metadata": {
        "colab": {
          "base_uri": "https://localhost:8080/",
          "height": 312
        },
        "id": "olive-tribe",
        "outputId": "cff926cf-580a-4baa-95fa-52be8656d675"
      },
      "source": [
        "plt.plot(fcn_train_history.history['loss'])\n",
        "plt.plot(fcn_train_history.history['val_loss'])\n",
        "plt.title('model loss')\n",
        "plt.ylabel('accuracy')\n",
        "plt.xlabel('epoch')\n",
        "plt.legend(['train', 'valid'], loc='upper left')"
      ],
      "id": "olive-tribe",
      "execution_count": 27,
      "outputs": [
        {
          "output_type": "execute_result",
          "data": {
            "text/plain": [
              "<matplotlib.legend.Legend at 0x7fb8a59926d0>"
            ]
          },
          "metadata": {},
          "execution_count": 27
        },
        {
          "output_type": "display_data",
          "data": {
            "image/png": "[encoded data removed]",
            "text/plain": [
              "<Figure size 432x288 with 1 Axes>"
            ]
          },
          "metadata": {
            "needs_background": "light"
          }
        }
      ]
    },
    {
      "cell_type": "markdown",
      "metadata": {
        "id": "continental-seller"
      },
      "source": [
        "### 4-4. Result\n",
        "학습완료된 모델을 바탕으로 test set 예측을 통해서 성능을 확인합니다."
      ],
      "id": "continental-seller"
    },
    {
      "cell_type": "code",
      "metadata": {
        "id": "focused-washer"
      },
      "source": [
        "fcn_result = (fcn_model.predict(X_test) > 0.5).astype(\"int32\")"
      ],
      "id": "focused-washer",
      "execution_count": null,
      "outputs": []
    },
    {
      "cell_type": "code",
      "metadata": {
        "colab": {
          "base_uri": "https://localhost:8080/"
        },
        "id": "PJHEj9_VGSzT",
        "outputId": "4df28e9b-d9c1-472a-bbd9-4fe7fea41f22"
      },
      "source": [
        "fcn_result"
      ],
      "id": "PJHEj9_VGSzT",
      "execution_count": null,
      "outputs": [
        {
          "output_type": "execute_result",
          "data": {
            "text/plain": [
              "array([[0],\n",
              "       [0],\n",
              "       [1],\n",
              "       ...,\n",
              "       [0],\n",
              "       [0],\n",
              "       [0]], dtype=int32)"
            ]
          },
          "metadata": {},
          "execution_count": 29
        }
      ]
    },
    {
      "cell_type": "markdown",
      "metadata": {
        "id": "stock-idaho"
      },
      "source": [
        "모델의 성능은 다음의 metric들로 확인할 수 있습니다.<br>\n",
        "의료 도메인에서는 **class imbalance가 매우 흔한 문제**입니다. (예를 들어 이 예제에서는 abnormal 비율이 적습니다.)<br>\n",
        "이러한 환경에서 보다 정확한 모델 평가를 위해서 다음과 같이 **여러 metric을 함께 확인**하는 것이 좋습니다."
      ],
      "id": "stock-idaho"
    },
    {
      "cell_type": "markdown",
      "metadata": {
        "id": "scientific-blade"
      },
      "source": [
        "precision = 모델이 True로 분류한 것 중 실제 True인 비율\n",
        "\n",
        "$$ precision = {True\\_positive \\over True\\_positive + False\\_positive} $$\n",
        "\n",
        "recall = 실제 Ture인 것 중에서 모델이 모델이 True라고 예측한 것의 비율\n",
        "\n",
        "$$ recall = {True\\_positive \\over True\\_positive + False\\_negative} $$\n",
        "\n",
        "F1 Score = Precision 과 Recall의 조화평균\n",
        "\n",
        "$$ F1\\_Score = 2 \\times { precision \\times recall \\over precision + recall} $$\n",
        "\n",
        "macro_avg = averaging the unweighted mean per label <br>\n",
        "weighted_avg = averaging the support-weighted mean per label"
      ],
      "id": "scientific-blade"
    },
    {
      "cell_type": "code",
      "metadata": {
        "colab": {
          "base_uri": "https://localhost:8080/"
        },
        "id": "stunning-dependence",
        "outputId": "47fb26bf-5315-4b87-bff8-ca347281e531"
      },
      "source": [
        "print(classification_report(Y_test, fcn_result, target_names=['normal', 'abnormal']))"
      ],
      "id": "stunning-dependence",
      "execution_count": null,
      "outputs": [
        {
          "output_type": "stream",
          "name": "stdout",
          "text": [
            "              precision    recall  f1-score   support\n",
            "\n",
            "      normal       0.78      0.95      0.86     17745\n",
            "    abnormal       0.83      0.49      0.62      9186\n",
            "\n",
            "    accuracy                           0.79     26931\n",
            "   macro avg       0.81      0.72      0.74     26931\n",
            "weighted avg       0.80      0.79      0.78     26931\n",
            "\n"
          ]
        }
      ]
    },
    {
      "cell_type": "markdown",
      "metadata": {
        "id": "premier-criticism"
      },
      "source": [
        "***"
      ],
      "id": "premier-criticism"
    },
    {
      "cell_type": "markdown",
      "metadata": {
        "id": "atmospheric-image"
      },
      "source": [
        "## 5. Deep Learning model training - multiclass classification\n",
        "\n",
        "두번째 예제로 multiclass classification (다중클래스분류) 을 수행해 보겠습니다.<br>\n",
        "이진 분류보다는 조금 더 어려운 문제이므로 앞서 이진분류 모델의 FCN보다 조금 더 deep 한 Convolutaion Neural Network (CNN)을 사용합니다.<br>\n",
        "앞서 3-1. 데이터셋 구축 과정에서 추출해둔 `symbol`을 활용합니다."
      ],
      "id": "atmospheric-image"
    },
    {
      "cell_type": "code",
      "metadata": {
        "id": "pacific-importance"
      },
      "source": [
        "from keras.models import Model\n",
        "from keras.layers import Layer, Dense, Dropout, Conv1D, MaxPooling1D, Add, Input, concatenate, multiply, dot, ReLU, Flatten \n",
        "from keras.callbacks import EarlyStopping, ModelCheckpoint\n",
        "from keras import metrics"
      ],
      "id": "pacific-importance",
      "execution_count": 30,
      "outputs": []
    },
    {
      "cell_type": "markdown",
      "metadata": {
        "id": "humanitarian-grill"
      },
      "source": [
        "### 5-1. Prepare Dataset\n",
        "다중클래스분류 모델을 학습시키기 위해 Dataset의 약간의 preprocessing이 필요합니다.<br>\n",
        "딥러닝은 행렬연산의 연속이기 때문에 `symbol`을 수치로 변환해주어야 합니다.<br>\n",
        "각 `symbol`을 숫자 하나로 매칭시켜 dictionary를 만들고 변환해줍니다."
      ],
      "id": "humanitarian-grill"
    },
    {
      "cell_type": "code",
      "metadata": {
        "colab": {
          "base_uri": "https://localhost:8080/"
        },
        "id": "impressed-steel",
        "outputId": "4716e002-3311-4a3a-e973-1dca0e0d0d98"
      },
      "source": [
        "# make class and idx dictionary for multiclass classification\n",
        "target_classes = abnormal + ['N']\n",
        "symbol_idx_dict = dict(zip(target_classes, np.arange(len(target_classes))))\n",
        "idx_symbol_dict = {v: k for k, v in symbol_idx_dict.items()}\n",
        "print(symbol_idx_dict)\n",
        "print(idx_symbol_dict)"
      ],
      "id": "impressed-steel",
      "execution_count": 28,
      "outputs": [
        {
          "output_type": "stream",
          "name": "stdout",
          "text": [
            "{'L': 0, 'R': 1, 'V': 2, '/': 3, 'A': 4, 'f': 5, 'F': 6, 'j': 7, 'a': 8, 'E': 9, 'J': 10, 'e': 11, 'S': 12, 'N': 13}\n",
            "{0: 'L', 1: 'R', 2: 'V', 3: '/', 4: 'A', 5: 'f', 6: 'F', 7: 'j', 8: 'a', 9: 'E', 10: 'J', 11: 'e', 12: 'S', 13: 'N'}\n"
          ]
        }
      ]
    },
    {
      "cell_type": "code",
      "metadata": {
        "id": "harmful-ethernet"
      },
      "source": [
        "# get symbol index value\n",
        "label_train = [symbol_idx_dict[label] for label in symbol_train]\n",
        "label_test = [symbol_idx_dict[label] for label in symbol_test]"
      ],
      "id": "harmful-ethernet",
      "execution_count": 29,
      "outputs": []
    },
    {
      "cell_type": "markdown",
      "metadata": {
        "id": "occupied-briefs"
      },
      "source": [
        "### 5-2. Define Convolutional Neural Network\n",
        "기본적인 구조는 FCN을 이용한 binary classification 때와 매우 흡사하지만 CNN 모델에 맞게 input shape을 수정해주어야 합니다.<br>\n",
        "CNN을 사용하기 위한 데이터에서는 input 이 (*batch_size, length, channel*)의 구조를 가져야 합니다.<br>\n",
        "우리 데이터의 경우 *channel* 수는 1 입니다.<br>\n",
        "<br>\n",
        "이번 강의에서 사용할 간단한 CNN 구조는 다음과 같습니다.<br>\n",
        "7개의 블록을 가지고 각 블록은 2개의 convolution layer와 residual path를 포함합니다.<br>\n",
        "residual path는 추후 모델 학습을 수월하게 하는 역할을 합니다.<br>\n",
        "`channel size`는 32로 하고 `kernel size`는 5로 합니다.<br>\n",
        "예측을 위한 classifier는 32개의 neuron을 갖는 2개의 layer로 구성합니다.<br>\n",
        "다중분류를 위해 모델의 **output에 `softmax` 함수를 사용하도록 변경**합니다."
      ],
      "id": "occupied-briefs"
    },
    {
      "cell_type": "code",
      "metadata": {
        "id": "acknowledged-mileage"
      },
      "source": [
        "batch_size = 2000\n",
        "num_classes = len(symbol_idx_dict)"
      ],
      "id": "acknowledged-mileage",
      "execution_count": 31,
      "outputs": []
    },
    {
      "cell_type": "code",
      "metadata": {
        "id": "southern-guatemala"
      },
      "source": [
        "# Define input\n",
        "inp = Input(shape=(X_train.shape[1], 1))\n",
        "\n",
        "#stem\n",
        "x = Conv1D(filters=32, kernel_size=5, activation='relu')(inp)\n",
        "\n",
        "# block 1\n",
        "fx = Conv1D(filters=32, kernel_size=5, padding='same', activation='relu')(x)\n",
        "fx = Conv1D(filters=32, kernel_size=5, padding='same')(fx)\n",
        "out = Add()([x, fx])\n",
        "out = ReLU()(out)\n",
        "out = MaxPooling1D(pool_size=5, strides=2)(out)\n",
        "\n",
        "\n",
        "# block 2\n",
        "fx = Conv1D(filters=32, kernel_size=5, padding='same', activation='relu')(out)\n",
        "fx = Conv1D(filters=32, kernel_size=5, padding='same')(fx)\n",
        "out = Add()([out, fx])\n",
        "out = ReLU()(out)\n",
        "out = MaxPooling1D(pool_size=5, strides=2)(out)\n",
        "\n",
        "# block 3\n",
        "fx = Conv1D(filters=32, kernel_size=5, padding='same', activation='relu')(out)\n",
        "fx = Conv1D(filters=32, kernel_size=5, padding='same')(fx)\n",
        "out = Add()([out, fx])\n",
        "out = ReLU()(out)\n",
        "out = MaxPooling1D(pool_size=5, strides=2)(out)\n",
        "\n",
        "# block 4\n",
        "fx = Conv1D(filters=32, kernel_size=5, padding='same', activation='relu')(out)\n",
        "fx = Conv1D(filters=32, kernel_size=5, padding='same')(fx)\n",
        "out = Add()([out, fx])\n",
        "out = ReLU()(out)\n",
        "out = MaxPooling1D(pool_size=5, strides=2)(out)\n",
        "\n",
        "# block 5\n",
        "fx = Conv1D(filters=32, kernel_size=5, padding='same', activation='relu')(out)\n",
        "fx = Conv1D(filters=32, kernel_size=5, padding='same')(fx)\n",
        "out = Add()([out, fx])\n",
        "out = ReLU()(out)\n",
        "out = MaxPooling1D(pool_size=5, strides=2)(out)\n",
        "\n",
        "# block 6\n",
        "fx = Conv1D(filters=32, kernel_size=5, padding='same', activation='relu')(out)\n",
        "fx = Conv1D(filters=32, kernel_size=5, padding='same')(fx)\n",
        "out = Add()([out, fx])\n",
        "out = ReLU()(out)\n",
        "out = MaxPooling1D(pool_size=5, strides=2)(out)\n",
        "\n",
        "# block 7\n",
        "fx = Conv1D(filters=32, kernel_size=5, padding='same', activation='relu')(out)\n",
        "fx = Conv1D(filters=32, kernel_size=5, padding='same')(fx)\n",
        "out = Add()([out, fx])\n",
        "out = ReLU()(out)\n",
        "out = MaxPooling1D(pool_size=5, strides=2)(out)\n",
        "\n",
        "### =========== Your code here ====================\n",
        "\n",
        "# MLP layers\n",
        "out = Flatten()(out)\n",
        "out = Dense(32, activation='relu')(out)\n",
        "out = Dense(32, activation='relu')(out)\n",
        "out = Dense(num_classes, activation='softmax')(out)\n",
        "\n",
        "### ==============================================="
      ],
      "id": "southern-guatemala",
      "execution_count": 34,
      "outputs": []
    },
    {
      "cell_type": "markdown",
      "metadata": {
        "id": "false-monitoring"
      },
      "source": [
        "`Keras`에서는 모델을 compile 해주어야 합니다.<br>\n",
        "이 때 loss와 metric을 정해주게 되는데, 여기서는 `sparse_categorical_crossentropy`를 사용합니다.<br>\n",
        "`sparse_categorical_crossentropy`의 경우는 input shape이 instance별 class index가 나타나는 1-D array가 되는 반면, `categorical_crossentopy`의 경우는 one-hot encoding이 되거나 혹은 soft probaility가 label이 될 수 있는 label indicator array가 사용된다는 차이가 있습니다."
      ],
      "id": "false-monitoring"
    },
    {
      "cell_type": "code",
      "metadata": {
        "id": "duplicate-geography"
      },
      "source": [
        "### =========== Your code here ====================\n",
        "\n",
        "cnn_model = Model(inputs=inp, outputs=out)\n",
        "adam_optimizer = tf.keras.optimizers.Adam(lr=0.0001)\n",
        "cnn_model.compile(loss='sparse_categorical_crossentropy', optimizer=adam_optimizer, metrics=[metrics.SparseCategoricalAccuracy()])\n",
        "\n",
        "### ==============================================="
      ],
      "id": "duplicate-geography",
      "execution_count": 47,
      "outputs": []
    },
    {
      "cell_type": "markdown",
      "metadata": {
        "id": "incorporate-record"
      },
      "source": [
        "모델의 구조는 다음과 같습니다."
      ],
      "id": "incorporate-record"
    },
    {
      "cell_type": "code",
      "metadata": {
        "colab": {
          "base_uri": "https://localhost:8080/"
        },
        "id": "geographic-mechanics",
        "outputId": "c42f4b1b-355e-4fc8-f7c5-03f8b315519b"
      },
      "source": [
        "cnn_model.summary()"
      ],
      "id": "geographic-mechanics",
      "execution_count": 48,
      "outputs": [
        {
          "output_type": "stream",
          "name": "stdout",
          "text": [
            "Model: \"model_4\"\n",
            "__________________________________________________________________________________________________\n",
            "Layer (type)                    Output Shape         Param #     Connected to                     \n",
            "==================================================================================================\n",
            "input_3 (InputLayer)            [(None, 2160, 1)]    0                                            \n",
            "__________________________________________________________________________________________________\n",
            "conv1d_30 (Conv1D)              (None, 2156, 32)     192         input_3[0][0]                    \n",
            "__________________________________________________________________________________________________\n",
            "conv1d_31 (Conv1D)              (None, 2156, 32)     5152        conv1d_30[0][0]                  \n",
            "__________________________________________________________________________________________________\n",
            "conv1d_32 (Conv1D)              (None, 2156, 32)     5152        conv1d_31[0][0]                  \n",
            "__________________________________________________________________________________________________\n",
            "add_14 (Add)                    (None, 2156, 32)     0           conv1d_30[0][0]                  \n",
            "                                                                 conv1d_32[0][0]                  \n",
            "__________________________________________________________________________________________________\n",
            "re_lu_14 (ReLU)                 (None, 2156, 32)     0           add_14[0][0]                     \n",
            "__________________________________________________________________________________________________\n",
            "max_pooling1d_14 (MaxPooling1D) (None, 1076, 32)     0           re_lu_14[0][0]                   \n",
            "__________________________________________________________________________________________________\n",
            "conv1d_33 (Conv1D)              (None, 1076, 32)     5152        max_pooling1d_14[0][0]           \n",
            "__________________________________________________________________________________________________\n",
            "conv1d_34 (Conv1D)              (None, 1076, 32)     5152        conv1d_33[0][0]                  \n",
            "__________________________________________________________________________________________________\n",
            "add_15 (Add)                    (None, 1076, 32)     0           max_pooling1d_14[0][0]           \n",
            "                                                                 conv1d_34[0][0]                  \n",
            "__________________________________________________________________________________________________\n",
            "re_lu_15 (ReLU)                 (None, 1076, 32)     0           add_15[0][0]                     \n",
            "__________________________________________________________________________________________________\n",
            "max_pooling1d_15 (MaxPooling1D) (None, 536, 32)      0           re_lu_15[0][0]                   \n",
            "__________________________________________________________________________________________________\n",
            "conv1d_35 (Conv1D)              (None, 536, 32)      5152        max_pooling1d_15[0][0]           \n",
            "__________________________________________________________________________________________________\n",
            "conv1d_36 (Conv1D)              (None, 536, 32)      5152        conv1d_35[0][0]                  \n",
            "__________________________________________________________________________________________________\n",
            "add_16 (Add)                    (None, 536, 32)      0           max_pooling1d_15[0][0]           \n",
            "                                                                 conv1d_36[0][0]                  \n",
            "__________________________________________________________________________________________________\n",
            "re_lu_16 (ReLU)                 (None, 536, 32)      0           add_16[0][0]                     \n",
            "__________________________________________________________________________________________________\n",
            "max_pooling1d_16 (MaxPooling1D) (None, 266, 32)      0           re_lu_16[0][0]                   \n",
            "__________________________________________________________________________________________________\n",
            "conv1d_37 (Conv1D)              (None, 266, 32)      5152        max_pooling1d_16[0][0]           \n",
            "__________________________________________________________________________________________________\n",
            "conv1d_38 (Conv1D)              (None, 266, 32)      5152        conv1d_37[0][0]                  \n",
            "__________________________________________________________________________________________________\n",
            "add_17 (Add)                    (None, 266, 32)      0           max_pooling1d_16[0][0]           \n",
            "                                                                 conv1d_38[0][0]                  \n",
            "__________________________________________________________________________________________________\n",
            "re_lu_17 (ReLU)                 (None, 266, 32)      0           add_17[0][0]                     \n",
            "__________________________________________________________________________________________________\n",
            "max_pooling1d_17 (MaxPooling1D) (None, 131, 32)      0           re_lu_17[0][0]                   \n",
            "__________________________________________________________________________________________________\n",
            "conv1d_39 (Conv1D)              (None, 131, 32)      5152        max_pooling1d_17[0][0]           \n",
            "__________________________________________________________________________________________________\n",
            "conv1d_40 (Conv1D)              (None, 131, 32)      5152        conv1d_39[0][0]                  \n",
            "__________________________________________________________________________________________________\n",
            "add_18 (Add)                    (None, 131, 32)      0           max_pooling1d_17[0][0]           \n",
            "                                                                 conv1d_40[0][0]                  \n",
            "__________________________________________________________________________________________________\n",
            "re_lu_18 (ReLU)                 (None, 131, 32)      0           add_18[0][0]                     \n",
            "__________________________________________________________________________________________________\n",
            "max_pooling1d_18 (MaxPooling1D) (None, 64, 32)       0           re_lu_18[0][0]                   \n",
            "__________________________________________________________________________________________________\n",
            "conv1d_41 (Conv1D)              (None, 64, 32)       5152        max_pooling1d_18[0][0]           \n",
            "__________________________________________________________________________________________________\n",
            "conv1d_42 (Conv1D)              (None, 64, 32)       5152        conv1d_41[0][0]                  \n",
            "__________________________________________________________________________________________________\n",
            "add_19 (Add)                    (None, 64, 32)       0           max_pooling1d_18[0][0]           \n",
            "                                                                 conv1d_42[0][0]                  \n",
            "__________________________________________________________________________________________________\n",
            "re_lu_19 (ReLU)                 (None, 64, 32)       0           add_19[0][0]                     \n",
            "__________________________________________________________________________________________________\n",
            "max_pooling1d_19 (MaxPooling1D) (None, 30, 32)       0           re_lu_19[0][0]                   \n",
            "__________________________________________________________________________________________________\n",
            "conv1d_43 (Conv1D)              (None, 30, 32)       5152        max_pooling1d_19[0][0]           \n",
            "__________________________________________________________________________________________________\n",
            "conv1d_44 (Conv1D)              (None, 30, 32)       5152        conv1d_43[0][0]                  \n",
            "__________________________________________________________________________________________________\n",
            "add_20 (Add)                    (None, 30, 32)       0           max_pooling1d_19[0][0]           \n",
            "                                                                 conv1d_44[0][0]                  \n",
            "__________________________________________________________________________________________________\n",
            "re_lu_20 (ReLU)                 (None, 30, 32)       0           add_20[0][0]                     \n",
            "__________________________________________________________________________________________________\n",
            "max_pooling1d_20 (MaxPooling1D) (None, 13, 32)       0           re_lu_20[0][0]                   \n",
            "__________________________________________________________________________________________________\n",
            "flatten_2 (Flatten)             (None, 416)          0           max_pooling1d_20[0][0]           \n",
            "__________________________________________________________________________________________________\n",
            "dense_5 (Dense)                 (None, 32)           13344       flatten_2[0][0]                  \n",
            "__________________________________________________________________________________________________\n",
            "dense_6 (Dense)                 (None, 32)           1056        dense_5[0][0]                    \n",
            "__________________________________________________________________________________________________\n",
            "dense_7 (Dense)                 (None, 14)           462         dense_6[0][0]                    \n",
            "==================================================================================================\n",
            "Total params: 87,182\n",
            "Trainable params: 87,182\n",
            "Non-trainable params: 0\n",
            "__________________________________________________________________________________________________\n"
          ]
        }
      ]
    },
    {
      "cell_type": "markdown",
      "metadata": {
        "id": "functioning-precipitation"
      },
      "source": [
        "### 5-3. Model fitting\n",
        "\n",
        "다중클래스분류 모델을 학습시킵니다.<br>\n",
        "학습 결과를 `train_history`에 저장하고 학습 과정동안의 loss 변화와 accuracy 변화를 확인합니다.<br>\n",
        "Training 데이터의 일부 (여기서는 20%) 를 validation을 위해 사용합니다.\n"
      ],
      "id": "functioning-precipitation"
    },
    {
      "cell_type": "code",
      "metadata": {
        "scrolled": false,
        "colab": {
          "base_uri": "https://localhost:8080/"
        },
        "id": "seeing-viewer",
        "outputId": "2c1c8c6e-53fd-4189-b161-1d10736e003f"
      },
      "source": [
        "### =========== Your code here ====================\n",
        "\n",
        "cnn_train_history = cnn_model.fit(X_train, np.array(label_train), epochs=10,\n",
        "                                  batch_size=batch_size, verbose=1, validation_split=0.2)\n",
        "\n",
        "### ==============================================="
      ],
      "id": "seeing-viewer",
      "execution_count": 49,
      "outputs": [
        {
          "output_type": "stream",
          "name": "stdout",
          "text": [
            "Epoch 1/10\n",
            "33/33 [==============================] - 78s 1s/step - loss: 1.8452 - sparse_categorical_accuracy: 0.5968 - val_loss: 0.9829 - val_sparse_categorical_accuracy: 0.8589\n",
            "Epoch 2/10\n",
            "33/33 [==============================] - 43s 1s/step - loss: 1.4902 - sparse_categorical_accuracy: 0.6530 - val_loss: 0.8650 - val_sparse_categorical_accuracy: 0.8584\n",
            "Epoch 3/10\n",
            "33/33 [==============================] - 43s 1s/step - loss: 1.2821 - sparse_categorical_accuracy: 0.6524 - val_loss: 0.8023 - val_sparse_categorical_accuracy: 0.8600\n",
            "Epoch 4/10\n",
            "33/33 [==============================] - 43s 1s/step - loss: 1.0507 - sparse_categorical_accuracy: 0.6652 - val_loss: 0.7403 - val_sparse_categorical_accuracy: 0.8583\n",
            "Epoch 5/10\n",
            "33/33 [==============================] - 43s 1s/step - loss: 0.7825 - sparse_categorical_accuracy: 0.7474 - val_loss: 0.6740 - val_sparse_categorical_accuracy: 0.8729\n",
            "Epoch 6/10\n",
            "33/33 [==============================] - 43s 1s/step - loss: 0.5455 - sparse_categorical_accuracy: 0.8609 - val_loss: 0.5990 - val_sparse_categorical_accuracy: 0.8978\n",
            "Epoch 7/10\n",
            "33/33 [==============================] - 43s 1s/step - loss: 0.4117 - sparse_categorical_accuracy: 0.9018 - val_loss: 0.5377 - val_sparse_categorical_accuracy: 0.9174\n",
            "Epoch 8/10\n",
            "33/33 [==============================] - 43s 1s/step - loss: 0.3464 - sparse_categorical_accuracy: 0.9203 - val_loss: 0.5358 - val_sparse_categorical_accuracy: 0.9167\n",
            "Epoch 9/10\n",
            "33/33 [==============================] - 43s 1s/step - loss: 0.3052 - sparse_categorical_accuracy: 0.9306 - val_loss: 0.4950 - val_sparse_categorical_accuracy: 0.9243\n",
            "Epoch 10/10\n",
            "33/33 [==============================] - 43s 1s/step - loss: 0.2747 - sparse_categorical_accuracy: 0.9383 - val_loss: 0.4794 - val_sparse_categorical_accuracy: 0.9292\n"
          ]
        }
      ]
    },
    {
      "cell_type": "code",
      "metadata": {
        "id": "QrMrxt4vnUT2",
        "outputId": "e8e3921d-884f-44e7-f1cb-1933f872a7cb",
        "colab": {
          "base_uri": "https://localhost:8080/"
        }
      },
      "source": [
        "cnn_train_history.history"
      ],
      "id": "QrMrxt4vnUT2",
      "execution_count": 52,
      "outputs": [
        {
          "output_type": "execute_result",
          "data": {
            "text/plain": [
              "{'loss': [1.8452050685882568,\n",
              "  1.4901964664459229,\n",
              "  1.2820801734924316,\n",
              "  1.0506891012191772,\n",
              "  0.7824667692184448,\n",
              "  0.5455120205879211,\n",
              "  0.4116564989089966,\n",
              "  0.3464491367340088,\n",
              "  0.3051571249961853,\n",
              "  0.2746891379356384],\n",
              " 'sparse_categorical_accuracy': [0.5967687964439392,\n",
              "  0.6530410647392273,\n",
              "  0.6523564457893372,\n",
              "  0.6651504635810852,\n",
              "  0.7473909854888916,\n",
              "  0.860909104347229,\n",
              "  0.9017555713653564,\n",
              "  0.920345664024353,\n",
              "  0.9305686354637146,\n",
              "  0.9382663369178772],\n",
              " 'val_loss': [0.9828994274139404,\n",
              "  0.8650273084640503,\n",
              "  0.8022915124893188,\n",
              "  0.7402852773666382,\n",
              "  0.6740017533302307,\n",
              "  0.5990455150604248,\n",
              "  0.5377233624458313,\n",
              "  0.5358343720436096,\n",
              "  0.4949938952922821,\n",
              "  0.47939440608024597],\n",
              " 'val_sparse_categorical_accuracy': [0.8588901162147522,\n",
              "  0.8584033250808716,\n",
              "  0.8600462675094604,\n",
              "  0.8582816123962402,\n",
              "  0.8728854656219482,\n",
              "  0.8977729082107544,\n",
              "  0.9174273014068604,\n",
              "  0.916697084903717,\n",
              "  0.9243032932281494,\n",
              "  0.9291712045669556]}"
            ]
          },
          "metadata": {},
          "execution_count": 52
        }
      ]
    },
    {
      "cell_type": "code",
      "metadata": {
        "colab": {
          "base_uri": "https://localhost:8080/",
          "height": 312
        },
        "id": "opposite-construction",
        "outputId": "87f53e5b-6c1a-4ff3-fd78-d4665c8f79c8"
      },
      "source": [
        "### =========== Your code here ====================\n",
        "\n",
        "plt.plot(cnn_train_history.history['sparse_categorical_accuracy'])\n",
        "plt.plot(cnn_train_history.history['val_sparse_categorical_accuracy']            )\n",
        "plt.title('model accuracy')\n",
        "plt.ylabel('accuracy')\n",
        "plt.xlabel('epoch')\n",
        "plt.legend(['train', 'valid'], loc='upper left')\n",
        "\n",
        "### ==============================================="
      ],
      "id": "opposite-construction",
      "execution_count": 53,
      "outputs": [
        {
          "output_type": "execute_result",
          "data": {
            "text/plain": [
              "<matplotlib.legend.Legend at 0x7fb8a402f8d0>"
            ]
          },
          "metadata": {},
          "execution_count": 53
        },
        {
          "output_type": "display_data",
          "data": {
            "image/png": "[encoded data removed]",
            "text/plain": [
              "<Figure size 432x288 with 1 Axes>"
            ]
          },
          "metadata": {
            "needs_background": "light"
          }
        }
      ]
    },
    {
      "cell_type": "code",
      "metadata": {
        "colab": {
          "base_uri": "https://localhost:8080/",
          "height": 314
        },
        "id": "upset-contrary",
        "outputId": "54c75b6b-896b-4908-b9df-8c7c3a2f046d"
      },
      "source": [
        "### =========== Your code here ====================\n",
        "\n",
        "plt.plot(cnn_train_history.history['loss'])\n",
        "plt.plot(cnn_train_history.history['val_loss'])\n",
        "plt.title('model loss')\n",
        "plt.ylabel('accuracy')\n",
        "plt.xlabel('epoch')\n",
        "plt.legend(['train', 'valid'], loc='upper left')\n",
        "\n",
        "### ==============================================="
      ],
      "id": "upset-contrary",
      "execution_count": null,
      "outputs": [
        {
          "output_type": "execute_result",
          "data": {
            "text/plain": [
              "<matplotlib.legend.Legend at 0x7f9d75148910>"
            ]
          },
          "metadata": {},
          "execution_count": 45
        },
        {
          "output_type": "display_data",
          "data": {
            "image/png": "[encoded data removed]",
            "text/plain": [
              "<Figure size 432x288 with 1 Axes>"
            ]
          },
          "metadata": {
            "needs_background": "light"
          }
        }
      ]
    },
    {
      "cell_type": "markdown",
      "metadata": {
        "id": "gross-going"
      },
      "source": [
        "### 5-4. Result\n",
        "\n",
        "학습된 모델을 바탕으로 test set을 추론합니다.<br>\n",
        "추론의 결과는 softmax 결과로 나온 확률값을 반환하기 때문에 `argmax`를 통해 클래스를 지정해주어야 합니다.<br> \n"
      ],
      "id": "gross-going"
    },
    {
      "cell_type": "code",
      "metadata": {
        "id": "deluxe-austria"
      },
      "source": [
        "cnn_result = cnn_model.predict(X_test)\n",
        "cnn_result_class = np.argmax(cnn_result, axis=1)"
      ],
      "id": "deluxe-austria",
      "execution_count": null,
      "outputs": []
    },
    {
      "cell_type": "code",
      "metadata": {
        "colab": {
          "base_uri": "https://localhost:8080/"
        },
        "id": "familiar-evans",
        "outputId": "9bad257a-122c-413e-b0d0-5cf6207ca92e"
      },
      "source": [
        "print(cnn_result)"
      ],
      "id": "familiar-evans",
      "execution_count": null,
      "outputs": [
        {
          "output_type": "stream",
          "name": "stdout",
          "text": [
            "[[6.1076198e-04 1.9525893e-02 4.9434630e-03 ... 6.2358697e-07\n",
            "  1.4865211e-08 9.7423971e-01]\n",
            " [9.8366733e-04 2.4104863e-02 1.5140039e-02 ... 1.2978644e-06\n",
            "  2.2996234e-08 9.5760256e-01]\n",
            " [1.3291340e-03 3.6960125e-02 1.0687849e-01 ... 2.6749703e-06\n",
            "  1.1077604e-07 8.5139281e-01]\n",
            " ...\n",
            " [3.5445599e-04 1.6988498e-03 3.2773460e-03 ... 3.8686899e-08\n",
            "  4.0820166e-07 9.9171036e-01]\n",
            " [2.4708407e-04 2.4235656e-03 8.7809609e-03 ... 4.7532222e-08\n",
            "  5.0231932e-07 9.8379105e-01]\n",
            " [5.0579296e-05 7.1032308e-03 1.5503842e-02 ... 6.1779772e-08\n",
            "  4.0886832e-07 9.7257721e-01]]\n"
          ]
        }
      ]
    },
    {
      "cell_type": "code",
      "metadata": {
        "colab": {
          "base_uri": "https://localhost:8080/"
        },
        "id": "comic-ticket",
        "outputId": "8a8ae176-f360-4a36-fced-174dfc5b557b"
      },
      "source": [
        "print(cnn_result_class)"
      ],
      "id": "comic-ticket",
      "execution_count": null,
      "outputs": [
        {
          "output_type": "stream",
          "name": "stdout",
          "text": [
            "[13 13 13 ... 13 13 13]\n"
          ]
        }
      ]
    },
    {
      "cell_type": "markdown",
      "metadata": {
        "id": "revolutionary-collar"
      },
      "source": [
        "classification report를 출력합니다. <br>\n",
        "만약 추론 결과값 내에 모든 클래스 (여기서는 0~13 의 14개 클래스)가 포함되어 있다면 class index만 기록된 1-D array를 그대로 사용해도 관게 없습니다. 그러나 우리 데이터와 같이 class imbalance 가 심하여 test set에 모든 클래스가 포함되지 않을 수 있는 경우, label indicator array를 만들어 confusion matix를 계산해야 합니다. <br>\n",
        "`label_binarize` 함수를 통해 쉽게 변환할 수 있습니다."
      ],
      "id": "revolutionary-collar"
    },
    {
      "cell_type": "code",
      "metadata": {
        "id": "meaningful-ridge"
      },
      "source": [
        "cnn_result_binarized = label_binarize(cnn_result_class, classes = list(symbol_idx_dict.values()))\n",
        "label_test_binarized = label_binarize(label_test, classes = list(symbol_idx_dict.values()))"
      ],
      "id": "meaningful-ridge",
      "execution_count": null,
      "outputs": []
    },
    {
      "cell_type": "code",
      "metadata": {
        "colab": {
          "base_uri": "https://localhost:8080/"
        },
        "id": "balanced-portfolio",
        "outputId": "3a54c853-d2b6-452e-de60-4875c7595a94"
      },
      "source": [
        "print(classification_report(label_test_binarized, cnn_result_binarized, target_names=list(idx_symbol_dict.values())))"
      ],
      "id": "balanced-portfolio",
      "execution_count": null,
      "outputs": [
        {
          "output_type": "stream",
          "name": "stdout",
          "text": [
            "              precision    recall  f1-score   support\n",
            "\n",
            "           L       0.40      0.00      0.00      2483\n",
            "           R       0.92      0.67      0.78      1644\n",
            "           V       0.40      0.62      0.49      1211\n",
            "           /       0.97      0.97      0.97      2071\n",
            "           A       0.00      0.00      0.00      1767\n",
            "           f       0.00      0.00      0.00         0\n",
            "           F       0.00      0.00      0.00         3\n",
            "           j       0.00      0.00      0.00         1\n",
            "           a       0.00      0.00      0.00         6\n",
            "           E       0.00      0.00      0.00         0\n",
            "           J       0.00      0.00      0.00         0\n",
            "           e       0.00      0.00      0.00         0\n",
            "           S       0.00      0.00      0.00         0\n",
            "           N       0.81      0.99      0.89     17745\n",
            "\n",
            "   micro avg       0.80      0.80      0.80     26931\n",
            "   macro avg       0.25      0.23      0.22     26931\n",
            "weighted avg       0.72      0.80      0.73     26931\n",
            " samples avg       0.80      0.80      0.80     26931\n",
            "\n"
          ]
        }
      ]
    },
    {
      "cell_type": "markdown",
      "metadata": {
        "id": "abstract-monitor"
      },
      "source": [
        "클래스 별 roc curve를 다음과 같이 출력하여 성능을 확인할 수 있습니다.<br>\n",
        "micro averaging을 통해 전체 클래스의 평균 roc 커브를 plotting 합니다."
      ],
      "id": "abstract-monitor"
    },
    {
      "cell_type": "code",
      "metadata": {
        "id": "significant-thunder"
      },
      "source": [
        "fpr = {}\n",
        "tpr = {}\n",
        "thresh = {}\n",
        "roc_auc = {}\n",
        "for i in range(num_classes):\n",
        "    fpr[i], tpr[i], thresh[i] = roc_curve(label_test_binarized[:, i], \n",
        "                                          cnn_result[:,i])\n",
        "    roc_auc[i] = auc(fpr[i], tpr[i])\n",
        "    \n",
        "fpr['micro'], tpr['micro'], thresh['micro'] = roc_curve(label_test_binarized.ravel(), \n",
        "                                                                cnn_result.ravel())\n",
        "roc_auc['micro'] = auc(fpr['micro'], tpr['micro'])        \n",
        "roc_score = roc_auc['micro']"
      ],
      "id": "significant-thunder",
      "execution_count": null,
      "outputs": []
    },
    {
      "cell_type": "code",
      "metadata": {
        "colab": {
          "base_uri": "https://localhost:8080/",
          "height": 285
        },
        "id": "saving-anime",
        "outputId": "f4bb9269-2834-41ec-99c6-84b0edb0e5e4"
      },
      "source": [
        "plot_fpr, plot_tpr, plot_thresh, plot_roc_auc = (fpr, tpr, thresh, roc_auc)\n",
        "lw=2\n",
        "# Plot all ROC curves\n",
        "plt.figure()\n",
        "\n",
        "colors = cycle(['lightcoral', 'brown', 'sandybrown',\n",
        "                'peru', 'darkorange', 'navajowhite',\n",
        "                'yellow', 'darkkhaki', 'olive', \n",
        "                'lightgreen', 'lime', 'teal',\n",
        "                'aqua', 'lightseagreen', 'deepskyblue',\n",
        "                'cornflowerblue', 'navy', 'slateblue', \n",
        "               'blueviolet', 'plum', 'pink'])\n",
        "\n",
        "for i, ((symbol, symidx), color) in enumerate(zip(symbol_idx_dict.items(), colors)):\n",
        "    plt.plot(plot_fpr[i], plot_tpr[i], color=color, lw=lw,\n",
        "             label='ROC curve of class {} (area = {:.2f})'.format(str(symbol), plot_roc_auc[i]))\n",
        "    \n",
        "plt.plot(plot_fpr[\"micro\"], plot_tpr[\"micro\"],\n",
        "     label='micro-average ROC curve (area = {0:0.2f})'\n",
        "           ''.format(plot_roc_auc[\"micro\"]),\n",
        "     color='deeppink', linestyle=':', linewidth=4)\n",
        "\n",
        "plt.plot([0, 1], [0, 1], 'k--', lw=lw)\n",
        "plt.xlim([0.0, 1.0])\n",
        "plt.ylim([0.0, 1.05])\n",
        "plt.xlabel('False Positive Rate')\n",
        "plt.ylabel('True Positive Rate')\n",
        "plt.legend(loc='center left', bbox_to_anchor=(1, 0.5))\n",
        "plt.show()"
      ],
      "id": "saving-anime",
      "execution_count": null,
      "outputs": [
        {
          "output_type": "display_data",
          "data": {
            "image/png": "[encoded data removed]",
            "text/plain": [
              "<Figure size 432x288 with 1 Axes>"
            ]
          },
          "metadata": {
            "needs_background": "light"
          }
        }
      ]
    },
    {
      "cell_type": "code",
      "metadata": {
        "id": "demographic-coating"
      },
      "source": [
        ""
      ],
      "id": "demographic-coating",
      "execution_count": null,
      "outputs": []
    }
  ]
}