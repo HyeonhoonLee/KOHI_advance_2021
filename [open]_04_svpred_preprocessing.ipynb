{
  "nbformat": 4,
  "nbformat_minor": 0,
  "metadata": {
    "kernelspec": {
      "display_name": "keras",
      "language": "python",
      "name": "lims1_keras"
    },
    "language_info": {
      "codemirror_mode": {
        "name": "ipython",
        "version": 3
      },
      "file_extension": ".py",
      "mimetype": "text/x-python",
      "name": "python",
      "nbconvert_exporter": "python",
      "pygments_lexer": "ipython3",
      "version": "3.8.10"
    },
    "colab": {
      "name": "[open] 04_svpred_preprocessing.ipynb",
      "provenance": [],
      "collapsed_sections": [],
      "include_colab_link": true
    },
    "accelerator": "GPU"
  },
  "cells": [
    {
      "cell_type": "markdown",
      "metadata": {
        "id": "view-in-github",
        "colab_type": "text"
      },
      "source": [
        "<a href=\"https://colab.research.google.com/github/HyeonhoonLee/KOHI_advance_2021/blob/main/%5Bopen%5D_04_svpred_preprocessing.ipynb\" target=\"_parent\"><img src=\"https://colab.research.google.com/assets/colab-badge.svg\" alt=\"Open In Colab\"/></a>"
      ]
    },
    {
      "cell_type": "markdown",
      "metadata": {
        "id": "b1hOQtgTzLyk"
      },
      "source": [
        "# 의료인공지능 전문가 양성과정 2021\n",
        "## VitalDB Tutorial <br> Stroke volume prediction using arterial wave - preprocessing\n",
        "- Date : Sep. 04, 2021\n",
        "- Author : **Hyun-Lim Yang, Ph.D.**<br>\n",
        "Research Assistant Professor @\n",
        "Seoul National University Hospital <br>\n",
        "Department of Anesthesiology and Pain Medicine\n",
        "- E-mail : hly{_at_}snuh{_dot_}org\n",
        "***"
      ]
    },
    {
      "cell_type": "code",
      "metadata": {
        "colab": {
          "base_uri": "https://localhost:8080/",
          "height": 17
        },
        "id": "SBuK2Zh0zLyo",
        "outputId": "8dc09f82-0280-4101-fc70-eb05998d3870"
      },
      "source": [
        "from IPython.display import HTML\n",
        "style_warn = \"<style>div.warn { background-color: #fcf2f2;border-color: #dFb5b4; border-left: 5px solid #dfb5b4; padding: 0.5em;}</style>\"\n",
        "HTML(style_warn)"
      ],
      "execution_count": 1,
      "outputs": [
        {
          "output_type": "execute_result",
          "data": {
            "text/html": [
              "<style>div.warn { background-color: #fcf2f2;border-color: #dFb5b4; border-left: 5px solid #dfb5b4; padding: 0.5em;}</style>"
            ],
            "text/plain": [
              "<IPython.core.display.HTML object>"
            ]
          },
          "metadata": {},
          "execution_count": 1
        }
      ]
    },
    {
      "cell_type": "markdown",
      "metadata": {
        "id": "5skhh3OKzLyq"
      },
      "source": [
        "### Import packages"
      ]
    },
    {
      "cell_type": "markdown",
      "metadata": {
        "id": "FfUSANd9zLyq"
      },
      "source": [
        "<div class=\"warn\">**Warning!** : use your directory at `download_directory`</div>\n"
      ]
    },
    {
      "cell_type": "markdown",
      "metadata": {
        "id": "1255GTubzLyr"
      },
      "source": [
        "> **Wargning** <br>\n",
        "> colab 환경을 위한 google drive import 코드가 포함되어 있습니다. <br>\n",
        "> 로컬 환경에서 실행 시 colab을 위한 import function들을 comment out 한 뒤 실행하세요. "
      ]
    },
    {
      "cell_type": "code",
      "metadata": {
        "colab": {
          "base_uri": "https://localhost:8080/"
        },
        "id": "t6WCQB5K2Gq7",
        "outputId": "2c6b981b-d7c1-4fee-c21e-8087a487fc37"
      },
      "source": [
        "from google.colab import drive  # for colab\n",
        "drive.mount('/content/gdrive/')  # for colab"
      ],
      "execution_count": 2,
      "outputs": [
        {
          "output_type": "stream",
          "name": "stdout",
          "text": [
            "Mounted at /content/gdrive/\n"
          ]
        }
      ]
    },
    {
      "cell_type": "code",
      "metadata": {
        "colab": {
          "base_uri": "https://localhost:8080/"
        },
        "id": "n281F9Px2LIW",
        "outputId": "80e3607e-7b21-47af-a800-ad4766398502"
      },
      "source": [
        "import os\n",
        "cloud_directory = '/content/gdrive/My Drive/KOHI2021/KOHI_advanced_2021/'\n",
        "os.listdir(cloud_directory) # for colab, check cloud directory mount"
      ],
      "execution_count": 3,
      "outputs": [
        {
          "output_type": "execute_result",
          "data": {
            "text/plain": [
              "['kohi_preprocessor.py',\n",
              " 'kohi_CNN_model_archi.png',\n",
              " 'data',\n",
              " '__pycache__',\n",
              " 'new_cnn_weight_balanced.h5',\n",
              " 'simple_cnn_weight_sv.h5',\n",
              " 'simple_cnn_weight_sv_transfer.h5',\n",
              " 'simple_cnn_weight_lowbp.h5']"
            ]
          },
          "metadata": {},
          "execution_count": 3
        }
      ]
    },
    {
      "cell_type": "code",
      "metadata": {
        "id": "xvK1qvZAzLyr"
      },
      "source": [
        "import os\n",
        "import sys\n",
        "# download_directory = os.getcwd() # for local environments\n",
        "# sys.path.append(download_directory) # for local environments\n",
        "sys.path.append(cloud_directory) # for colab\n"
      ],
      "execution_count": 4,
      "outputs": []
    },
    {
      "cell_type": "code",
      "metadata": {
        "colab": {
          "base_uri": "https://localhost:8080/"
        },
        "id": "cINVgGZV2hyI",
        "outputId": "13457956-07ca-42ce-da9c-c99cf558ac5f"
      },
      "source": [
        "!pip install vitaldb"
      ],
      "execution_count": 5,
      "outputs": [
        {
          "output_type": "stream",
          "name": "stdout",
          "text": [
            "Collecting vitaldb\n",
            "  Downloading vitaldb-0.0.6-py3-none-any.whl (8.9 kB)\n",
            "Requirement already satisfied: numpy in /usr/local/lib/python3.7/dist-packages (from vitaldb) (1.19.5)\n",
            "Requirement already satisfied: pandas in /usr/local/lib/python3.7/dist-packages (from vitaldb) (1.1.5)\n",
            "Requirement already satisfied: requests in /usr/local/lib/python3.7/dist-packages (from vitaldb) (2.23.0)\n",
            "Requirement already satisfied: python-dateutil>=2.7.3 in /usr/local/lib/python3.7/dist-packages (from pandas->vitaldb) (2.8.2)\n",
            "Requirement already satisfied: pytz>=2017.2 in /usr/local/lib/python3.7/dist-packages (from pandas->vitaldb) (2018.9)\n",
            "Requirement already satisfied: six>=1.5 in /usr/local/lib/python3.7/dist-packages (from python-dateutil>=2.7.3->pandas->vitaldb) (1.15.0)\n",
            "Requirement already satisfied: chardet<4,>=3.0.2 in /usr/local/lib/python3.7/dist-packages (from requests->vitaldb) (3.0.4)\n",
            "Requirement already satisfied: certifi>=2017.4.17 in /usr/local/lib/python3.7/dist-packages (from requests->vitaldb) (2021.5.30)\n",
            "Requirement already satisfied: urllib3!=1.25.0,!=1.25.1,<1.26,>=1.21.1 in /usr/local/lib/python3.7/dist-packages (from requests->vitaldb) (1.24.3)\n",
            "Requirement already satisfied: idna<3,>=2.5 in /usr/local/lib/python3.7/dist-packages (from requests->vitaldb) (2.10)\n",
            "Installing collected packages: vitaldb\n",
            "Successfully installed vitaldb-0.0.6\n"
          ]
        }
      ]
    },
    {
      "cell_type": "code",
      "metadata": {
        "id": "TKG-2vTFzLys"
      },
      "source": [
        "import numpy as np\n",
        "import pandas as pd\n",
        "import glob\n",
        "import kohi_preprocessor as pre\n",
        "import vitaldb\n",
        "from tqdm import tqdm\n",
        "import warnings\n",
        "warnings.filterwarnings(action='ignore')\n",
        "\n",
        "download_directory = cloud_directory # for colab\n"
      ],
      "execution_count": 6,
      "outputs": []
    },
    {
      "cell_type": "markdown",
      "metadata": {
        "id": "SMDgPxgzzLys"
      },
      "source": [
        "### Data loading\n",
        "샘플 파일을 vitaldb 서버로 부터 직접 다운받아 로드"
      ]
    },
    {
      "cell_type": "markdown",
      "metadata": {
        "id": "fYExAUDqzLyt"
      },
      "source": [
        "> **TODO:** `00019.vital`을 100hz로 변환하여 `chart_pd_01`에 DataFrame으로 저장하기"
      ]
    },
    {
      "cell_type": "code",
      "metadata": {
        "colab": {
          "base_uri": "https://localhost:8080/"
        },
        "id": "tW4xFFhuzLyu",
        "outputId": "9389da5a-0628-4810-ff06-fc99cf957351"
      },
      "source": [
        "track_names = [\"EV1000/SV\", \"SNUADC/ART\"]\n",
        "### =========== Your code here ====================\n",
        "\n",
        "vitaldata = vitaldb.load_case(caseid=19, tnames=track_names, interval=1/100)\n",
        "chart_pd_01 = pd.DataFrame(vitaldata, columns=track_names)\n",
        "\n",
        "### ===============================================\n",
        "\n",
        "print(chart_pd_01.columns)"
      ],
      "execution_count": 7,
      "outputs": [
        {
          "output_type": "stream",
          "name": "stdout",
          "text": [
            "Index(['EV1000/SV', 'SNUADC/ART'], dtype='object')\n"
          ]
        }
      ]
    },
    {
      "cell_type": "code",
      "metadata": {
        "id": "y8f_UKNV3j9q",
        "outputId": "a618a34c-cb49-4473-9be5-9eb758d1808c",
        "colab": {
          "base_uri": "https://localhost:8080/",
          "height": 359
        }
      },
      "source": [
        "chart_pd_01.sample(10)"
      ],
      "execution_count": 13,
      "outputs": [
        {
          "output_type": "execute_result",
          "data": {
            "text/html": [
              "<div>\n",
              "<style scoped>\n",
              "    .dataframe tbody tr th:only-of-type {\n",
              "        vertical-align: middle;\n",
              "    }\n",
              "\n",
              "    .dataframe tbody tr th {\n",
              "        vertical-align: top;\n",
              "    }\n",
              "\n",
              "    .dataframe thead th {\n",
              "        text-align: right;\n",
              "    }\n",
              "</style>\n",
              "<table border=\"1\" class=\"dataframe\">\n",
              "  <thead>\n",
              "    <tr style=\"text-align: right;\">\n",
              "      <th></th>\n",
              "      <th>EV1000/SV</th>\n",
              "      <th>SNUADC/ART</th>\n",
              "    </tr>\n",
              "  </thead>\n",
              "  <tbody>\n",
              "    <tr>\n",
              "      <th>679399</th>\n",
              "      <td>NaN</td>\n",
              "      <td>92.8984</td>\n",
              "    </tr>\n",
              "    <tr>\n",
              "      <th>2136844</th>\n",
              "      <td>NaN</td>\n",
              "      <td>101.7860</td>\n",
              "    </tr>\n",
              "    <tr>\n",
              "      <th>805657</th>\n",
              "      <td>NaN</td>\n",
              "      <td>76.1116</td>\n",
              "    </tr>\n",
              "    <tr>\n",
              "      <th>1232802</th>\n",
              "      <td>NaN</td>\n",
              "      <td>51.4252</td>\n",
              "    </tr>\n",
              "    <tr>\n",
              "      <th>1902787</th>\n",
              "      <td>NaN</td>\n",
              "      <td>31.6761</td>\n",
              "    </tr>\n",
              "    <tr>\n",
              "      <th>618273</th>\n",
              "      <td>NaN</td>\n",
              "      <td>64.2621</td>\n",
              "    </tr>\n",
              "    <tr>\n",
              "      <th>1782405</th>\n",
              "      <td>NaN</td>\n",
              "      <td>64.2621</td>\n",
              "    </tr>\n",
              "    <tr>\n",
              "      <th>1957344</th>\n",
              "      <td>NaN</td>\n",
              "      <td>68.2120</td>\n",
              "    </tr>\n",
              "    <tr>\n",
              "      <th>279135</th>\n",
              "      <td>NaN</td>\n",
              "      <td>59.3249</td>\n",
              "    </tr>\n",
              "    <tr>\n",
              "      <th>2373581</th>\n",
              "      <td>NaN</td>\n",
              "      <td>110.6730</td>\n",
              "    </tr>\n",
              "  </tbody>\n",
              "</table>\n",
              "</div>"
            ],
            "text/plain": [
              "         EV1000/SV  SNUADC/ART\n",
              "679399         NaN     92.8984\n",
              "2136844        NaN    101.7860\n",
              "805657         NaN     76.1116\n",
              "1232802        NaN     51.4252\n",
              "1902787        NaN     31.6761\n",
              "618273         NaN     64.2621\n",
              "1782405        NaN     64.2621\n",
              "1957344        NaN     68.2120\n",
              "279135         NaN     59.3249\n",
              "2373581        NaN    110.6730"
            ]
          },
          "metadata": {},
          "execution_count": 13
        }
      ]
    },
    {
      "cell_type": "code",
      "metadata": {
        "id": "C7QgM5xczLyu"
      },
      "source": [
        "col_svs = 'EV1000/SV'\n",
        "col_art = 'SNUADC/ART'"
      ],
      "execution_count": 8,
      "outputs": []
    },
    {
      "cell_type": "markdown",
      "metadata": {
        "id": "kCdy4rJvzLyv"
      },
      "source": [
        "### Stroke volume 데이터 추출"
      ]
    },
    {
      "cell_type": "code",
      "metadata": {
        "colab": {
          "base_uri": "https://localhost:8080/"
        },
        "id": "i-1w_jMKzLyv",
        "outputId": "b9a38d59-eb63-45c9-e7fa-4c8ad26c2bb3"
      },
      "source": [
        "# stroke volume 데이터 추출\n",
        "### =========== Your code here ====================\n",
        "\n",
        "svs_data_pd = chart_pd_01[col_svs][chart_pd_01[col_svs].notnull()]\n",
        "svs_index = svs_data_pd.index.values\n",
        "\n",
        "### ===============================================\n",
        "print(svs_data_pd.head())"
      ],
      "execution_count": 14,
      "outputs": [
        {
          "output_type": "stream",
          "name": "stdout",
          "text": [
            "53845    61.0\n",
            "54008    61.0\n",
            "54208    61.0\n",
            "54408    61.0\n",
            "54607    61.0\n",
            "Name: EV1000/SV, dtype: float64\n"
          ]
        }
      ]
    },
    {
      "cell_type": "markdown",
      "metadata": {
        "id": "oHoJjKlwzLyv"
      },
      "source": [
        "### arterial wave 데이터 추출 및 nan 지우기"
      ]
    },
    {
      "cell_type": "code",
      "metadata": {
        "colab": {
          "base_uri": "https://localhost:8080/"
        },
        "id": "6HvdViM3zLyv",
        "outputId": "a10573c0-594e-4513-8122-116829f555c0"
      },
      "source": [
        "# art 데이터 전체 추출 및 nan value 채우기\n",
        "### =========== Your code here ====================\n",
        "\n",
        "art_full_pd = chart_pd_01[col_art]\n",
        "art_full_pd = art_full_pd.fillna(0)\n",
        "\n",
        "### ===============================================\n",
        "\n",
        "print(art_full_pd.head())"
      ],
      "execution_count": 15,
      "outputs": [
        {
          "output_type": "stream",
          "name": "stdout",
          "text": [
            "0    0.0\n",
            "1    0.0\n",
            "2    0.0\n",
            "3    0.0\n",
            "4    0.0\n",
            "Name: SNUADC/ART, dtype: float64\n"
          ]
        }
      ]
    },
    {
      "cell_type": "markdown",
      "metadata": {
        "id": "wf3-q0ckzLyw"
      },
      "source": [
        "### 데이터셋 만들기\n",
        "필요한 파라미터들 정의"
      ]
    },
    {
      "cell_type": "code",
      "metadata": {
        "id": "3QYzmcVVzLyw"
      },
      "source": [
        "# 필요한 파라미터들 정의\n",
        "srate = 100\n",
        "length = 20\n",
        "max_limit_svs = 200 # svs max : 200\n",
        "min_limit_svs = 20  # svs min : 20"
      ],
      "execution_count": 16,
      "outputs": []
    },
    {
      "cell_type": "code",
      "metadata": {
        "id": "yRzEcOxH4bAc",
        "outputId": "9f707e93-bbaf-4ce7-c62d-9d2f1c54ba00",
        "colab": {
          "base_uri": "https://localhost:8080/"
        }
      },
      "source": [
        "svs_index"
      ],
      "execution_count": 17,
      "outputs": [
        {
          "output_type": "execute_result",
          "data": {
            "text/plain": [
              "array([  53845,   54008,   54208, ..., 2700200, 2700400, 2700600])"
            ]
          },
          "metadata": {},
          "execution_count": 17
        }
      ]
    },
    {
      "cell_type": "code",
      "metadata": {
        "id": "PRDxyWTD5baL",
        "outputId": "bf868c25-e611-4164-a7f1-da3a75e55d08",
        "colab": {
          "base_uri": "https://localhost:8080/"
        }
      },
      "source": [
        "svs_index[svs_index > 0]"
      ],
      "execution_count": 20,
      "outputs": [
        {
          "output_type": "execute_result",
          "data": {
            "text/plain": [
              "array([  53845,   54008,   54208, ..., 2700200, 2700400, 2700600])"
            ]
          },
          "metadata": {},
          "execution_count": 20
        }
      ]
    },
    {
      "cell_type": "code",
      "metadata": {
        "colab": {
          "base_uri": "https://localhost:8080/"
        },
        "id": "1n_wsq-NzLyw",
        "outputId": "d0e97211-b2d2-455f-8e3d-dcf6a4adb0ca"
      },
      "source": [
        "# svs index를 20초 뒤로 미룸\n",
        "### =========== Your code here ====================\n",
        "\n",
        "svs_points = svs_index[svs_index > (length*srate)]\n",
        "\n",
        "### ===============================================\n",
        "\n",
        "print(svs_points)"
      ],
      "execution_count": 18,
      "outputs": [
        {
          "output_type": "stream",
          "name": "stdout",
          "text": [
            "[  53845   54008   54208 ... 2700200 2700400 2700600]\n"
          ]
        }
      ]
    },
    {
      "cell_type": "markdown",
      "metadata": {
        "id": "61LdJYp5zLyw"
      },
      "source": [
        "### Arterial wave segment 추출"
      ]
    },
    {
      "cell_type": "code",
      "metadata": {
        "id": "_HXpuk2b8F0W",
        "outputId": "e2448b75-b42e-4b53-f890-40ba65efd5bc",
        "colab": {
          "base_uri": "https://localhost:8080/"
        }
      },
      "source": [
        "# arterial segment 추출하기\n",
        "### =========== Your code here ====================\n",
        "svs_values_list = [svs_data_pd[idx] for idx in svs_points]\n",
        "art_seg_list = [art_full_pd[idx- (length*srate) : \n",
        "                            idx].values \n",
        "                for idx in svs_points]\n",
        "\n",
        "### ===============================================\n",
        "\n",
        "svs_values_np = np.array(svs_values_list)\n",
        "art_seg_np = np.array(art_seg_list)\n",
        "\n",
        "print(svs_values_np)\n",
        "print(art_seg_np)"
      ],
      "execution_count": 21,
      "outputs": [
        {
          "output_type": "stream",
          "name": "stdout",
          "text": [
            "[61. 61. 61. ... 63. 63. 63.]\n",
            "[[ 62.2872    62.2872    60.3123   ...  61.2998    65.2496    66.2371  ]\n",
            " [ 54.3876    56.3625    60.3123   ...  53.4001    51.4252    50.4377  ]\n",
            " [ 65.2496    64.2621    64.2621   ...  77.0991    71.1743    67.2245  ]\n",
            " ...\n",
            " [ 30.6886    -4.85986   -0.910027 ...  28.7137   -26.5839     8.96454 ]\n",
            " [ 20.814    -21.6466    34.6384   ...  22.7889   -11.7721    -2.88494 ]\n",
            " [ 19.8266   -21.6466    29.7011   ...  24.7639   -15.7219     3.0398  ]]\n"
          ]
        }
      ]
    },
    {
      "cell_type": "markdown",
      "metadata": {
        "id": "aO_fradkzLyx"
      },
      "source": [
        "### 조건에 따라 filter들 정의"
      ]
    },
    {
      "cell_type": "code",
      "metadata": {
        "colab": {
          "base_uri": "https://localhost:8080/"
        },
        "id": "DX2ctQtMzLyx",
        "outputId": "909c0709-4caa-45d1-d7bb-e565358915cd"
      },
      "source": [
        "# 필터들 선언\n",
        "# svs min-max filter\n",
        "\n",
        "### =========== Your code here ====================\n",
        "\n",
        "svs_max_filter = svs_values_np < max_limit_svs\n",
        "svs_min_filter = svs_values_np > min_limit_svs\n",
        "svs_filter = svs_max_filter & svs_min_filter\n",
        "\n",
        "### ===============================================\n",
        "\n",
        "\n",
        "# abp range filter\n",
        "\n",
        "### =========== Your code here ====================\n",
        "\n",
        "art_filter_list = []\n",
        "for seg in art_seg_np:\n",
        "    filter_value = (np.array(seg) > 25.0).all() and (np.array(seg) < 250.0).all()\n",
        "    art_filter_list.append(filter_value)\n",
        "art_filter = np.array(art_filter_list)\n",
        "\n",
        "### ===============================================\n",
        "\n",
        "\n",
        "# mstds 필터\n",
        "\n",
        "### =========== Your code here ====================\n",
        "\n",
        "mstds_values_list = []\n",
        "for seg in tqdm(art_seg_np):\n",
        "    if  (np.array(seg) < 0.).any():\n",
        "        mstds_values_list.append(float(0.))\n",
        "    else:\n",
        "        mstd_val, _ = pre.process_beat(seg)\n",
        "        mstds_values_list.append(mstd_val)\n",
        "mstds_filter = np.array(mstds_values_list) > 0.\n",
        "\n",
        "### ===============================================\n"
      ],
      "execution_count": 23,
      "outputs": [
        {
          "output_type": "stream",
          "name": "stderr",
          "text": [
            "100%|██████████| 13217/13217 [03:07<00:00, 70.34it/s]\n"
          ]
        }
      ]
    },
    {
      "cell_type": "markdown",
      "metadata": {
        "id": "DZkIcBLYzLyx"
      },
      "source": [
        "전체 필터 하나로 만들기"
      ]
    },
    {
      "cell_type": "code",
      "metadata": {
        "id": "I93VsDWxzLyx"
      },
      "source": [
        "### =========== Your code here ====================\n",
        "\n",
        "all_filters = svs_filter & art_filter & mstds_filter\n",
        "\n",
        "### ===============================================\n"
      ],
      "execution_count": 27,
      "outputs": []
    },
    {
      "cell_type": "markdown",
      "metadata": {
        "id": "ZKWS-j7rzLyx"
      },
      "source": [
        "### 필터 적용하여 데이터 추출"
      ]
    },
    {
      "cell_type": "code",
      "metadata": {
        "colab": {
          "base_uri": "https://localhost:8080/"
        },
        "id": "gpljepIvzLyx",
        "outputId": "b3fe59f4-6713-4368-ecf0-1b1874a11b59"
      },
      "source": [
        "# 필터 적용해서 추출\n",
        "\n",
        "### =========== Your code here ====================\n",
        "\n",
        "svs_filtered = svs_values_np[all_filters]\n",
        "art_filtered = art_seg_np[all_filters]\n",
        "\n",
        "### ===============================================\n",
        "\n",
        "print(svs_filtered.shape)\n",
        "print(art_filtered.shape)"
      ],
      "execution_count": 28,
      "outputs": [
        {
          "output_type": "stream",
          "name": "stdout",
          "text": [
            "(12385,)\n",
            "(12385, 2000)\n"
          ]
        }
      ]
    },
    {
      "cell_type": "markdown",
      "metadata": {
        "id": "JP9N_3cMzLyy"
      },
      "source": [
        "데이터셋 정의"
      ]
    },
    {
      "cell_type": "code",
      "metadata": {
        "id": "0HaKykYfzLyy"
      },
      "source": [
        "x_data = art_filtered\n",
        "y_label = svs_filtered"
      ],
      "execution_count": 29,
      "outputs": []
    },
    {
      "cell_type": "code",
      "metadata": {
        "colab": {
          "base_uri": "https://localhost:8080/"
        },
        "id": "DUzIt4D-zLyy",
        "outputId": "86338a8a-7162-4d63-e532-b24c2af537b2"
      },
      "source": [
        "print(x_data.shape)\n",
        "print(y_label.shape)"
      ],
      "execution_count": 30,
      "outputs": [
        {
          "output_type": "stream",
          "name": "stdout",
          "text": [
            "(12385, 2000)\n",
            "(12385,)\n"
          ]
        }
      ]
    },
    {
      "cell_type": "code",
      "metadata": {
        "id": "_7FiFxFkzLyz"
      },
      "source": [
        ""
      ],
      "execution_count": null,
      "outputs": []
    },
    {
      "cell_type": "code",
      "metadata": {
        "id": "I58RBKhrzLyz"
      },
      "source": [
        ""
      ],
      "execution_count": null,
      "outputs": []
    },
    {
      "cell_type": "code",
      "metadata": {
        "id": "_LqjEEi6zLyz"
      },
      "source": [
        ""
      ],
      "execution_count": null,
      "outputs": []
    }
  ]
}